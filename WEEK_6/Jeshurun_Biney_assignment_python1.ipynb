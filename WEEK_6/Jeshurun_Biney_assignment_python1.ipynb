{
 "cells": [
  {
   "cell_type": "code",
   "execution_count": 1,
   "id": "575bf670",
   "metadata": {
    "scrolled": true
   },
   "outputs": [
    {
     "name": "stdout",
     "output_type": "stream",
     "text": [
      "python in jupyter notebook is different but the same......\n"
     ]
    }
   ],
   "source": [
    "#!/usr/bin/env python 3\n",
    "\n",
    "#this is a comment: testing my first program with a simple print statement\n",
    "\n",
    "print(\"python in jupyter notebook is different but the same......\")\n"
   ]
  },
  {
   "cell_type": "markdown",
   "id": "5a444a17",
   "metadata": {},
   "source": [
    "# Python assignment 1\n",
    "\n",
    "## Topics to cover\n",
    "- Getting started\n",
    "- Basic mathematical operations\n",
    "- String operations\n",
    "- `input()`, converting strings to floats, float precision\n"
   ]
  },
  {
   "cell_type": "markdown",
   "id": "684a6675",
   "metadata": {},
   "source": [
    "\n",
    "\n",
    "# Writing some of your first Python scripts to play with scalars and scalar functions.\n",
    "\n",
    "Before working through the below exercises, make sure to have read chapter 8, and built the specified python script as demonstrated in the chapter. This will give you some good experience/practice with assigning scalar variables and using some string functions.\n",
    "\n",
    "### 1. In addition to standard mathematical operators, the following are commonly useful. Make sure you understand what they do. Note that += will work with strings, the others will return undefined.\n",
    "\n",
    "\n",
    "    +=      *= \t    -= \t    /=\t   \n",
    "\n",
    " ### Write a script that assigns integers, floats, and strings to some variables (perhaps as illustrated below), and test each of the above operators. Use print statements to allow you to track what is happening in your script(s).\n",
    "\n",
    "    Int_a = 7\n",
    "    Int_b = 3\n",
    "    Int_c = 2\n",
    "    Float1 = 3.33\n",
    "    Name1 = 'shipley'\n",
    "    Name2 = 'dog'\n",
    "\n",
    "<p>&nbsp;</p>"
   ]
  },
  {
   "cell_type": "code",
   "execution_count": 17,
   "id": "2fbd58d8",
   "metadata": {},
   "outputs": [
    {
     "name": "stdout",
     "output_type": "stream",
     "text": [
      "Testing assigned values\n",
      "7 9 5\n",
      "3.14\n",
      "husky Joey\n",
      "Using Operators +=\n",
      "int_A += int_B = 16\n",
      "float_1 += int_A = 19.14\n",
      "Name1 + Name2 = Joeyhusky\n"
     ]
    }
   ],
   "source": [
    "int_A = 7;\n",
    "int_B = 9;\n",
    "int_C = 5;\n",
    "float_1 = 3.14;\n",
    "Name1 = 'Joey';\n",
    "Name2 = 'husky';\n",
    "\n",
    "print(\"Testing assigned values\")\n",
    "print(int_A, int_B, int_C);\n",
    "print(float_1);\n",
    "print(Name2,Name1);\n",
    "\n",
    "\n",
    "print(\"Using Operators +=\");\n",
    "int_A += int_B;\n",
    "float_1 += int_A;\n",
    "Name1 += Name2;\n",
    "\n",
    "print(f\"int_A += int_B = {int_A}\");\n",
    "print(f\"float_1 += int_A = {float_1}\");\n",
    "print(f\"Name1 + Name2 = {Name1}\");\n"
   ]
  },
  {
   "cell_type": "code",
   "execution_count": 20,
   "id": "24f26907",
   "metadata": {},
   "outputs": [
    {
     "name": "stdout",
     "output_type": "stream",
     "text": [
      "Using Operators *=\n",
      "int_C *= int_B = 35\n",
      "float_1 *= int_A = 21.98\n"
     ]
    }
   ],
   "source": [
    "int_A = 7;\n",
    "int_C = 5;\n",
    "float_1 = 3.14;\n",
    "Name1 = 'Joey';\n",
    "Name2 = 'husky';\n",
    "print(\"Using Operators *=\");\n",
    "\n",
    "int_C *= int_A;\n",
    "float_1 *= int_A;\n",
    "\n",
    "print(f\"int_C *= int_B = {int_C}\");\n",
    "print(f\"float_1 *= int_A = {float_1}\");\n"
   ]
  },
  {
   "cell_type": "code",
   "execution_count": 23,
   "id": "3c82b8e3",
   "metadata": {},
   "outputs": [
    {
     "name": "stdout",
     "output_type": "stream",
     "text": [
      "Using Operators *=\n",
      "int_A -= int_C = 2\n",
      "float_1 -= int_C = -1.8599999999999999\n"
     ]
    }
   ],
   "source": [
    "int_A = 7;\n",
    "int_C = 5;\n",
    "float_1 = 3.14;\n",
    "Name1 = 'Joey';\n",
    "Name2 = 'husky';\n",
    "print(\"Using Operators *=\");\n",
    "\n",
    "int_A -= int_C;\n",
    "float_1 -= int_C;\n",
    "\n",
    "print(f\"int_A -= int_C = {int_A}\");\n",
    "print(f\"float_1 -= int_C = {float_1}\");\n"
   ]
  },
  {
   "cell_type": "code",
   "execution_count": 24,
   "id": "bc2bdd06",
   "metadata": {},
   "outputs": [
    {
     "name": "stdout",
     "output_type": "stream",
     "text": [
      "Using Operators /=\n",
      "int_C /= int_B = 0.7142857142857143\n",
      "float_1 /= int_A = 0.44857142857142857\n"
     ]
    }
   ],
   "source": [
    "int_A = 7;\n",
    "int_C = 5;\n",
    "float_1 = 3.14;\n",
    "Name1 = 'Joey';\n",
    "Name2 = 'husky';\n",
    "print(\"Using Operators /=\");\n",
    "\n",
    "int_C /= int_A;\n",
    "float_1 /= int_A;\n",
    "\n",
    "print(f\"int_C /= int_B = {int_C}\");\n",
    "print(f\"float_1 /= int_A = {float_1}\");"
   ]
  },
  {
   "cell_type": "markdown",
   "id": "c0780b23",
   "metadata": {},
   "source": [
    "### 2. Write a program that uses `input()` to prompt the entry of a string and an integer and then prints out the string the number of times indicated by the number on separate lines.  If the user enters “fred” and “3”, the output should be: fredfredfred. If the user enters “fred” and “299792,” there would be a lot of output.\n"
   ]
  },
  {
   "cell_type": "code",
   "execution_count": 4,
   "id": "3385ef0e",
   "metadata": {},
   "outputs": [
    {
     "name": "stdout",
     "output_type": "stream",
     "text": [
      "Enter a string: Jeshurun\n",
      "Enter an integer: 10\n",
      "Jeshurun\n",
      "Jeshurun\n",
      "Jeshurun\n",
      "Jeshurun\n",
      "Jeshurun\n",
      "Jeshurun\n",
      "Jeshurun\n",
      "Jeshurun\n",
      "Jeshurun\n",
      "Jeshurun\n"
     ]
    }
   ],
   "source": [
    "# Prompt the user for input\n",
    "user_string = input(\"Enter a string: \")\n",
    "user_integer = input(\"Enter an integer: \")\n",
    "\n",
    "# convert the second input into an integer\n",
    "\n",
    "user_integer = int(user_integer)\n",
    "\n",
    "\n",
    "# Print the string the specified number of times\n",
    "for _ in range(user_integer):\n",
    "    print(user_string)\n"
   ]
  },
  {
   "cell_type": "code",
   "execution_count": null,
   "id": "257ebc37",
   "metadata": {},
   "outputs": [],
   "source": []
  },
  {
   "cell_type": "markdown",
   "id": "d78630fc",
   "metadata": {},
   "source": [
    "### 3. Write a python script to calculate expected genotype frequencies in a population under Hardy Weinberg Equilibrium based on known allele frequencies at a gene with TWO alleles. As a reminder, a population under Hardy-Weinberg equilibrium has 3 genotype frequencies predictable from allele frequencies (p and q; p + q = 1):"
   ]
  },
  {
   "cell_type": "markdown",
   "id": "85daeccb",
   "metadata": {},
   "source": [
    "### p**2 + 2pq + q**2 = 1"
   ]
  },
  {
   "cell_type": "code",
   "execution_count": 11,
   "id": "f78a6ba8",
   "metadata": {},
   "outputs": [
    {
     "name": "stdout",
     "output_type": "stream",
     "text": [
      "Enter the frequency of allele 'A' (p): 0.45\n",
      "Expected Genotype Frequencies under Hardy-Weinberg Equilibrium:\n",
      "AA: 0.20\n",
      "Aa: 0.50\n",
      "aa: 0.30\n"
     ]
    }
   ],
   "source": [
    "# Input allele frequencies (p)\n",
    "p = float(input(\"Enter the frequency of allele 'A' (p): \"))\n",
    "\n",
    "# p + q = 1 , calculating the value of q\n",
    "q = 1 - p\n",
    "\n",
    "# Function to calculate Hardy-Weinberg genotype frequencies\n",
    "def hardy_weinberg(p, q):\n",
    "    p_squared = p * p\n",
    "    q_squared = q * q\n",
    "    pq = 2 * p * q\n",
    "    \n",
    "    return p_squared, pq, q_squared\n",
    "\n",
    "# Calculate genotype frequencies\n",
    "#assigning the return values using tuples\n",
    "p_squared, pq, q_squared = hardy_weinberg(p, q)\n",
    "\n",
    "# Print the results with 2 decimal places\n",
    "print(\"Expected Genotype Frequencies under Hardy-Weinberg Equilibrium:\")\n",
    "print(f\"AA: {p_squared:.2f}\")\n",
    "print(f\"Aa: {pq:.2f}\")\n",
    "print(f\"aa: {q_squared:.2f}\")\n"
   ]
  },
  {
   "cell_type": "markdown",
   "id": "8acb36da",
   "metadata": {},
   "source": [
    "### Each of the 3 terms above represent the genotype frequencies (AA [p**2], Aa [2pq], aa [q**2)]). In other words, p**2 is the predicted frequency of the first homozygous genotype, 2pq is the predicted frequency of heterozygotes, and q**2 is the predicted frequency of the second homozygous genotype. Your script should require the entry of values p and q, and should print the calculated values of each expected genotype."
   ]
  },
  {
   "cell_type": "markdown",
   "id": "a5653487",
   "metadata": {},
   "source": [
    "### A couple of points here:\n",
    "\n",
    "- The program should use the `input()` function to prompt for the command line entry of two values (p and q; really you only need to supply one value because they must sum to 1) from the command line.\n",
    "\n",
    "- Depending on how you enter a number with a decimal, such as 0.8, python may automatically call this a string. If so, you will need to convert this to a float before performing mathematical operations.\n",
    "\n",
    "- You may also notice that the precision, and the number of digits after the decimal, for p\\*\\*2, 2pq, q\\*\\*2 will be excessive. Control the precision of the floats you print so that they only have *2 digit*s after the decimal (e.g., 0.66). For this you should use the `%` operator (e.g., `%.2f`)"
   ]
  }
 ],
 "metadata": {
  "kernelspec": {
   "display_name": "Python 3 (ipykernel)",
   "language": "python",
   "name": "python3"
  },
  "language_info": {
   "codemirror_mode": {
    "name": "ipython",
    "version": 3
   },
   "file_extension": ".py",
   "mimetype": "text/x-python",
   "name": "python",
   "nbconvert_exporter": "python",
   "pygments_lexer": "ipython3",
   "version": "3.11.4"
  }
 },
 "nbformat": 4,
 "nbformat_minor": 5
}
