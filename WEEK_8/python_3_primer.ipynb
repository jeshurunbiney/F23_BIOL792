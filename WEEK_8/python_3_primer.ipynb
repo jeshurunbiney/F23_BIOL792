{
 "cells": [
  {
   "cell_type": "markdown",
   "id": "42a14256-91c8-446e-92a7-ab6bf11055d3",
   "metadata": {},
   "source": [
    "# Python primer III, Data Science I\n",
    "\n",
    "## Topics to cover\n",
    "\n",
    "-   working with files (input/output)\n",
    "-   processing command line arguments in your code\n",
    "-   introduction to using libraries (`sys`) and (`re`)\n",
    "-   Haddock and Dunn chapters 9 and 10, bit of 11 (`sys.argv`)\n",
    "-   updated document that has corrections for python3 where necessary\n",
    "    (PythonLesson2_Chapter9.pdf, PythonLesson3_Chapter10.docx)\n",
    "\n",
    "# Working with Files\n",
    "\n",
    "For almost every task you attempt with Python, you will need to 1) open\n",
    "and read data from existing text files; and 2) write the products of\n",
    "your code to new text files. Sometimes you will work with one file at a\n",
    "time, while other tasks will involve reading and writing to multiple\n",
    "files and at some times large numbers of files. As hopefully you will\n",
    "see here, all of the above is fairly straightforward with Python.\n",
    "\n",
    "\n",
    "\n"
   ]
  },
  {
   "cell_type": "markdown",
   "id": "500f499a",
   "metadata": {},
   "source": [
    "## I. Input\n",
    "\n",
    "Input involves several steps\n",
    "\n",
    "**A.** assigning the name of the file to a variable (based on its\n",
    "location), and opening a connection to the file (creating a file object\n",
    "with `open()`)\n",
    "\n",
    "**B.** reading the contents of the file with `.read` or using a `for`\n",
    "loop, using one of several available methods in Python(detailed below)\n",
    "\n",
    "### A. Establishing file handles: `open()`can be used to open a connection (also could be called a file handle) to files stored in directories on your computer.\n",
    "\n",
    "### This can be done by ‘hardcoding’ the name of a file or files into your code:\n",
    "\n",
    "If the file is in your working directory:\n",
    "\n",
    "    IN_file=open('data.txt', 'r')\n",
    "\n",
    "Of course, you can also use an absolute path:\n",
    "\n",
    "    IN_file=open('/working/parchman/data.txt', 'r')\n",
    "\n"
   ]
  },
  {
   "cell_type": "code",
   "execution_count": 5,
   "id": "14071aba",
   "metadata": {},
   "outputs": [],
   "source": [
    "IN_file=open('flies.txt', 'r')"
   ]
  },
  {
   "cell_type": "markdown",
   "id": "4fcc1ce2",
   "metadata": {},
   "source": [
    "### Perhaps more usefully, file names can be processed from command line arguments. This is often advantageous in that the same script can be used to process different files or different sets of files without. Let’s walk through how to do this below, while also giving you a preview of using python libraries/modules.\n",
    "\n",
    "A strength of python is the enormous number of libraries/packages that\n",
    "exist to facilitate specific tasks. We will soon start to learn more\n",
    "about more libraries in Python; here we will introduce a commonly used\n",
    "library and the process of importing libraries. Importing a library into\n",
    "your python scrip is done with a simple line (below, import function,\n",
    "followed by name of library):\n",
    "\n",
    "    import sys\n",
    "\n",
    "Such library statements are typically placed at the top of python\n",
    "scripts. As time goes on, you may find yourself importing multiple\n",
    "libraries:\n",
    "\n",
    "    import sys\n",
    "    import numpy\n",
    "    import pandas\n",
    "\n",
    "Or, you can input all on one line:\n",
    "\n",
    "    import sys, numpy, pandas\n",
    "\n",
    "Command line arguments can be accessed from you code using `argv`\n",
    "function of the `sys` library. `sys.argv` allows you to directly access\n",
    "a list of command line arguments.\n",
    "\n",
    "From here, you can see that using the `open()` function to make file\n",
    "objects from filenames contained in the `sys.argv` list is an efficient\n",
    "way to access files in your code. For most cases, this strategy will be\n",
    "more efficient and useful than hardcoding file names into your scripts.\n",
    "\n",
    "    import sys\n",
    "    IN = open(sys.argv[1], 'r') \n",
    "\n",
    "If you provide a file name as an argument, `sys.argv[1]`, as above, the\n",
    "second element of that list will be the file name (remember that list\n",
    "indexing in Python begins with zero). So if you ran the code below, the\n",
    "file `data.txt` would be opened and assigned to `IN`.\n",
    "\n",
    "    python3 read_file.py data.txt\n",
    "\n",
    "    import sys\n",
    "    IN = open(sys.argv[1], 'r')\n",
    " "
   ]
  },
  {
   "cell_type": "code",
   "execution_count": 15,
   "id": "f57da27a",
   "metadata": {},
   "outputs": [],
   "source": [
    "import sys"
   ]
  },
  {
   "cell_type": "code",
   "execution_count": 16,
   "id": "83962ca0",
   "metadata": {},
   "outputs": [],
   "source": [
    "import sys\n",
    "import numpy\n",
    "import pandas"
   ]
  },
  {
   "cell_type": "code",
   "execution_count": 22,
   "id": "d5b4940e",
   "metadata": {},
   "outputs": [],
   "source": [
    "import sys, numpy, pandas\n"
   ]
  },
  {
   "cell_type": "code",
   "execution_count": 37,
   "id": "11ea8834",
   "metadata": {},
   "outputs": [
    {
     "ename": "SyntaxError",
     "evalue": "invalid syntax (3636544685.py, line 3)",
     "output_type": "error",
     "traceback": [
      "\u001b[0;36m  Cell \u001b[0;32mIn[37], line 3\u001b[0;36m\u001b[0m\n\u001b[0;31m    read_file.py data.txt\u001b[0m\n\u001b[0m                 ^\u001b[0m\n\u001b[0;31mSyntaxError\u001b[0m\u001b[0;31m:\u001b[0m invalid syntax\n"
     ]
    }
   ],
   "source": [
    "import sys\n",
    "#IN = open(sys.argv[1], 'r') \n",
    "read_file.py data.txt\n"
   ]
  },
  {
   "cell_type": "code",
   "execution_count": 38,
   "id": "43394474",
   "metadata": {},
   "outputs": [
    {
     "name": "stdout",
     "output_type": "stream",
     "text": [
      "-f\n",
      "/Users/jeshurunbiney/Library/Jupyter/runtime/kernel-e007e44c-e763-4e50-a253-f95105a72e15.json\n"
     ]
    }
   ],
   "source": [
    "import sys\n",
    "for Arg in sys.argv[1:]:\n",
    "    print(Arg)\n"
   ]
  },
  {
   "cell_type": "markdown",
   "id": "ab5aa494",
   "metadata": {},
   "source": [
    "The \\[1:\\] below skips the first argument in the list (sys.argv\\[0\\]),\n",
    "which is the script itself, and will access the remaining command line\n",
    "arguments.\n",
    "\n",
    "    import sys\n",
    "    for Arg in sys.argv[1:]:       \n",
    "        print(Arg)\n"
   ]
  },
  {
   "cell_type": "markdown",
   "id": "587219cc",
   "metadata": {},
   "source": [
    "If you had placed just the above in a script, and executed that script\n",
    "as below:\n",
    "\n",
    "    $ python argtest.py Lebron AD Rondo\n",
    "\n",
    "you should see Lebron, AD and Rondo printed consecutively to the screen"
   ]
  },
  {
   "cell_type": "markdown",
   "id": "70f426b5",
   "metadata": {},
   "source": [
    "## B. Reading data from a file.\n",
    "\n",
    "### Below is example sytax for several ways to read data from files:\n",
    "\n",
    "To read the *entire* contents of file (note, this is rarely useful for\n",
    "large files, and in general)\n",
    "\n",
    "    IN = IN_file.read()\n",
    "\n",
    "To read one line at a time:\n",
    "\n",
    "    IN = IN_file.readline()\n",
    "\n",
    "If you wanted to read all of the lines in a file straight into a list:\n",
    "\n",
    "    File_as_List = IN_file.readlines()\n",
    "\n",
    "Or:\n",
    "\n",
    "    list(IN_file)\n",
    "\n",
    "### Looping through file objects with `for`, reading one line at a time. *This is often an ideal way to work with data from files.*\n",
    "\n",
    "What you will often (perhaps usually) want to do is loop over a file to\n",
    "read each line one at a time from the file. In other words, we will run\n",
    "this block of code on the first line of the file, then we will run this\n",
    "block of code on the second line, and so on. This is memory efficient,\n",
    "fast, and leads to simple code:\n",
    "\n",
    "    for Line in IN:\n",
    "        print(Line)\n",
    "\n",
    "Once you start processing files one line at a time, you will realize\n",
    "that line ending characters (`\\n`) often get in the way, and can be most\n",
    "effectively dealt with by removing them right off the bat. We can use\n",
    "the `.strip` function to do this.\n",
    "\n",
    "The below code provides a simple example of specifying a file for\n",
    "reading, opening the file, looping through file one line at a time with\n",
    "a `for` loop, and incrementing to keep track of how many lines are being\n",
    "processed. Note, that once you read each line as a scalar, you can\n",
    "essentially do whatever you want within the `for` loop that is\n",
    "extracting lines from the file.\n",
    "\n",
    "    "
   ]
  },
  {
   "cell_type": "markdown",
   "id": "4aefb9d3",
   "metadata": {},
   "source": [
    "IN_Name = sys.argv[1]\n",
    "IN = open(IN_Name, 'r')\n",
    "LineNumber = 0  ## setting to 0 to count lines while looping through the file. \n",
    "\n",
    "for Line in IN:\n",
    "    Line = Line.strip('\\n') #### critical, removing line ending\n",
    "    print(LineNumber, \":\", Line)\n",
    "\n",
    "    LineNumber += 1 ## incrementing LineNumber to count runs through loop\n",
    "\n",
    "    print(LineNumber) # this will be the number of lines processed of IN\n",
    "    IN.close() #closing IN, see below."
   ]
  },
  {
   "cell_type": "code",
   "execution_count": 43,
   "id": "742bc283",
   "metadata": {},
   "outputs": [],
   "source": [
    "IN = IN_file.read()"
   ]
  },
  {
   "cell_type": "code",
   "execution_count": 44,
   "id": "cd00a2a4",
   "metadata": {},
   "outputs": [],
   "source": [
    "IN = IN_file.readline()"
   ]
  },
  {
   "cell_type": "code",
   "execution_count": 45,
   "id": "f97138a7",
   "metadata": {},
   "outputs": [],
   "source": [
    "File_as_List = IN_file.readlines()"
   ]
  },
  {
   "cell_type": "code",
   "execution_count": 46,
   "id": "0e6a2949",
   "metadata": {},
   "outputs": [
    {
     "data": {
      "text/plain": [
       "[]"
      ]
     },
     "execution_count": 46,
     "metadata": {},
     "output_type": "execute_result"
    }
   ],
   "source": [
    "list(IN_file)"
   ]
  },
  {
   "cell_type": "code",
   "execution_count": 47,
   "id": "c7c4ca1c",
   "metadata": {},
   "outputs": [],
   "source": [
    "for Line in IN:\n",
    "    print(Line)"
   ]
  },
  {
   "cell_type": "markdown",
   "id": "9bffc16c",
   "metadata": {},
   "source": [
    "#### Looping through file objects with for, reading one line at a time. This is often an ideal way to work with data from files."
   ]
  },
  {
   "cell_type": "code",
   "execution_count": 48,
   "id": "fbfa1e98",
   "metadata": {},
   "outputs": [],
   "source": [
    "for Line in IN:\n",
    "    print(Line)"
   ]
  },
  {
   "cell_type": "code",
   "execution_count": 52,
   "id": "d9218102",
   "metadata": {},
   "outputs": [
    {
     "ename": "TypeError",
     "evalue": "expected str, bytes or os.PathLike object, not TextIOWrapper",
     "output_type": "error",
     "traceback": [
      "\u001b[0;31m---------------------------------------------------------------------------\u001b[0m",
      "\u001b[0;31mTypeError\u001b[0m                                 Traceback (most recent call last)",
      "Cell \u001b[0;32mIn[52], line 3\u001b[0m\n\u001b[1;32m      1\u001b[0m \u001b[38;5;28;01mimport\u001b[39;00m \u001b[38;5;21;01msys\u001b[39;00m\n\u001b[1;32m      2\u001b[0m IN_Name \u001b[38;5;241m=\u001b[39m \u001b[38;5;28mopen\u001b[39m(\u001b[38;5;124m'\u001b[39m\u001b[38;5;124mflies.txt\u001b[39m\u001b[38;5;124m'\u001b[39m,\u001b[38;5;124m'\u001b[39m\u001b[38;5;124mr\u001b[39m\u001b[38;5;124m'\u001b[39m)\n\u001b[0;32m----> 3\u001b[0m IN \u001b[38;5;241m=\u001b[39m \u001b[38;5;28mopen\u001b[39m(IN_Name, \u001b[38;5;124m'\u001b[39m\u001b[38;5;124mr\u001b[39m\u001b[38;5;124m'\u001b[39m)\n\u001b[1;32m      4\u001b[0m LineNumber \u001b[38;5;241m=\u001b[39m \u001b[38;5;241m0\u001b[39m  \u001b[38;5;66;03m## setting to 0 to count lines while looping through the file. \u001b[39;00m\n\u001b[1;32m      6\u001b[0m \u001b[38;5;28;01mfor\u001b[39;00m Line \u001b[38;5;129;01min\u001b[39;00m IN:\n",
      "File \u001b[0;32m~/anaconda3/lib/python3.11/site-packages/IPython/core/interactiveshell.py:284\u001b[0m, in \u001b[0;36m_modified_open\u001b[0;34m(file, *args, **kwargs)\u001b[0m\n\u001b[1;32m    277\u001b[0m \u001b[38;5;28;01mif\u001b[39;00m file \u001b[38;5;129;01min\u001b[39;00m {\u001b[38;5;241m0\u001b[39m, \u001b[38;5;241m1\u001b[39m, \u001b[38;5;241m2\u001b[39m}:\n\u001b[1;32m    278\u001b[0m     \u001b[38;5;28;01mraise\u001b[39;00m \u001b[38;5;167;01mValueError\u001b[39;00m(\n\u001b[1;32m    279\u001b[0m         \u001b[38;5;124mf\u001b[39m\u001b[38;5;124m\"\u001b[39m\u001b[38;5;124mIPython won\u001b[39m\u001b[38;5;124m'\u001b[39m\u001b[38;5;124mt let you open fd=\u001b[39m\u001b[38;5;132;01m{\u001b[39;00mfile\u001b[38;5;132;01m}\u001b[39;00m\u001b[38;5;124m by default \u001b[39m\u001b[38;5;124m\"\u001b[39m\n\u001b[1;32m    280\u001b[0m         \u001b[38;5;124m\"\u001b[39m\u001b[38;5;124mas it is likely to crash IPython. If you know what you are doing, \u001b[39m\u001b[38;5;124m\"\u001b[39m\n\u001b[1;32m    281\u001b[0m         \u001b[38;5;124m\"\u001b[39m\u001b[38;5;124myou can use builtins\u001b[39m\u001b[38;5;124m'\u001b[39m\u001b[38;5;124m open.\u001b[39m\u001b[38;5;124m\"\u001b[39m\n\u001b[1;32m    282\u001b[0m     )\n\u001b[0;32m--> 284\u001b[0m \u001b[38;5;28;01mreturn\u001b[39;00m io_open(file, \u001b[38;5;241m*\u001b[39margs, \u001b[38;5;241m*\u001b[39m\u001b[38;5;241m*\u001b[39mkwargs)\n",
      "\u001b[0;31mTypeError\u001b[0m: expected str, bytes or os.PathLike object, not TextIOWrapper"
     ]
    }
   ],
   "source": [
    "import sys\n",
    "IN_Name = open('flies.txt','r')\n",
    "IN = open(IN_Name, 'r')\n",
    "LineNumber = 0  ## setting to 0 to count lines while looping through the file. \n",
    "\n",
    "for Line in IN:\n",
    "    Line = Line.strip('\\n') #### critical, removing line ending\n",
    "    print(LineNumber, \":\", Line)\n",
    "\n",
    "    LineNumber += 1 ## incrementing LineNumber to count runs through loop\n",
    "\n",
    "print(LineNumber) # this will be the number of lines processed of IN\n",
    "IN.close() #closing IN, see below."
   ]
  },
  {
   "cell_type": "markdown",
   "id": "2a24b0cf",
   "metadata": {},
   "source": [
    "## C. Keeping file names, file objects (also called file handles or file connections), and file contents straight.\n",
    "\n",
    "Below are three lines of code to 1. create a file name, 2. make a file\n",
    "object, or connection, from your code to that file, and 3. read all\n",
    "contents of that file into a single scalar. Each line below is described\n",
    "as a reminder of how they differ.\n",
    "\n",
    "    input_file= \"~/python_practice/DNA_seq_allosaurus.fasta\"\n",
    "    IN = open(input_file, 'r')\n",
    "    my_file_contents = IN.read()\n",
    "\n",
    "1). Create file name pointing to location on device:\n",
    "\n",
    "    input_file= \"~/python_practice/DNA_seq_allosaurus.fasta\"\n",
    "\n",
    "2). Making a file object, or connection, from your code to that file:\n",
    "\n",
    "    IN = open(input_file, 'r')\n",
    "\n",
    "3). Using the `.read()` function to read all contents of that file into\n",
    "a single scalar:\n",
    "\n",
    "    my_file_contents = IN.read()\n"
   ]
  },
  {
   "cell_type": "code",
   "execution_count": null,
   "id": "61db8a2e",
   "metadata": {},
   "outputs": [],
   "source": []
  },
  {
   "cell_type": "markdown",
   "id": "eca77c0e",
   "metadata": {},
   "source": [
    "## II. Output\n",
    "\n",
    "Opening a file for output, and writing to that file (as opposed to\n",
    "printing the output to the terminal using `print`), works similarly to\n",
    "the examples above and also uses `open()`. With this function, we use\n",
    "either the “r”, “w”, and “a” arguments for the `open()` function to\n",
    "specify read, write, or append actions. For writing output from your\n",
    "code, we will use “w” or “a”.\n",
    "\n",
    "    OUT = open(\"outfile.txt\", \"w\")\n",
    "    OUT.write(\"Here is the data my python code processed \\n\")\n",
    "\n",
    "The `.write` function above works similarly to `print`. Hence, you can\n",
    "write strings of text, variables, and even variables processed by\n",
    "functions. A few examples below. Two important points about `.write` in\n",
    "how it differs from `print`. `.write()` is picky about what it will\n",
    "write out, preferring strings, and requiring some specific notation\n",
    "(examples below). Also, while `print` automatically appends line endings\n",
    "to statements, `.write` does not. Thus, you will need to add line\n",
    "endings.\n",
    "\n",
    "    OUT.write(\"Here is the data my python code processed \\n\") # string of text, note line ending added\n",
    "\n",
    "    OUT.write(\"Data: %d %f\" % (VarA, VarB)) # string and variables\n",
    "    OUT2.write(\"Data %s \\n\" % (Line))\n",
    "    OUT3.write(\"%d\\n\" % (VarName))\n",
    "\n",
    "Strings can be written using just a variable name, but Python doesnt\n",
    "like lists\n",
    "\n",
    "    OUT4.write(Name + \"\\n\")\n",
    "\n",
    "For appending to an already existing file, we use option with the “a”\n",
    "\n",
    "    OUTa = open(\"existing_file.txt\", \"a\")\n",
    "    OUTa.write(\"%d\\n\" % (VarName)) # will write to end of already existing file\n",
    "\n",
    "Finally, note that you can control output with `print` as well by using\n",
    "unix redirect (`>`), if you only need to send output to one file.\n",
    "\n",
    "    $ python myscript.py > output.txt"
   ]
  },
  {
   "cell_type": "code",
   "execution_count": null,
   "id": "ee850b06",
   "metadata": {},
   "outputs": [],
   "source": []
  },
  {
   "cell_type": "code",
   "execution_count": null,
   "id": "93623a82",
   "metadata": {},
   "outputs": [],
   "source": []
  },
  {
   "cell_type": "markdown",
   "id": "309b7e5a",
   "metadata": {},
   "source": [
    "## III. Closing files\n",
    "\n",
    "It may take some experience before you realize that closing files when\n",
    "you are done with them is good form. While learning and writing\n",
    "straightforward scripts, you may not encounter problems when you fail to\n",
    "close files, but that will change as you ramp up what you are doing.\n",
    "Nonetheless, get in the habit of doing this now, and try not to forget.\n",
    "It is simple using the `.close()` function. While you are learning\n",
    "python, you will commonly want to these commands towards the end of your\n",
    "scripts.\n",
    "\n",
    "    IN.close()\n",
    "    OUT.close()\n"
   ]
  },
  {
   "cell_type": "code",
   "execution_count": null,
   "id": "6764a603",
   "metadata": {},
   "outputs": [],
   "source": []
  },
  {
   "cell_type": "markdown",
   "id": "6e79a9cf",
   "metadata": {},
   "source": [
    "## IV. Processing lines, one at a time\n",
    "\n",
    "The code below gives an example of looping through every line in a file.\n",
    "\n",
    "    InFile=open(\"genenames.txt\", 'r')\n",
    "    for Line in InFile:\n",
    "        Line = Line.strip('\\n') #removing line ending\n",
    "        \n",
    "\n",
    "### Example code for opening a file, looping through one line at a time, and splitting each line into a workable list, extracting a range of values:\n",
    "\n",
    "After removing line endings, you will often want to split the line\n",
    "(which is read in as a string) into a list using `.split()`. Once the\n",
    "line is split, you can work on each element separately using list\n",
    "notation or you can loop through the list with another for loop.\n",
    "\n",
    "    InFile=sys.argv[1]\n",
    "    IN=open(InFile, \"r\")\n",
    "    OUT1=open(\"filetowrite.txt\", \"w\")\n",
    "\n",
    "    LineNumber = 0\n",
    "    for Line in IN:\n",
    "        Line = Line.strip('\\n')\n",
    "        ElementList = Line.split('\\t') #tab delimited text.\n",
    "        OUT1.write(str(ElementList[1:5]))\n",
    "        LineNumber += 1     # incrementing lines to keep track.\n"
   ]
  },
  {
   "cell_type": "code",
   "execution_count": null,
   "id": "9add7a03",
   "metadata": {},
   "outputs": [],
   "source": []
  },
  {
   "cell_type": "code",
   "execution_count": null,
   "id": "59c1051a",
   "metadata": {},
   "outputs": [],
   "source": []
  },
  {
   "cell_type": "markdown",
   "id": "c8ce5f55",
   "metadata": {},
   "source": [
    "## V. Introduction to regular expressions\n",
    "\n",
    "Thus far, we have used tools that allow pattern recognition as a basis\n",
    "for completing some task or file manipulation in both Unix (e.g.,\n",
    "`grep`, `sed`, `tr`, `awk`) and Python (`str.count()`). However, our use\n",
    "of these tools has largely involved searching for fixed patterns. While\n",
    "working with biological data, and really any other form of big data, we\n",
    "will encounter many problems that will require more flexible match\n",
    "patterns.\n",
    "\n",
    "We will start working with regular expressions using the `re` module. As\n",
    "hinted above with `sys`, modules/libraries will play a major role in\n",
    "enabling your python code. We will cover that in more detail in a few\n",
    "weeks, and we will get into more detail on regular expressions next\n",
    "week. First, lets introduce pattern matching for regular expressions\n",
    "using `re` (which stands for regular expression).\n",
    "\n",
    "To use functionality in the `re` module in your code, you want to add a\n",
    "line near the top of your script (just after your shebang line) that\n",
    "uses the `import` function.\n",
    "\n",
    "    import re\n",
    "\n",
    "In general, `re` requires you to specify a pattern to match, followed by\n",
    "a string to match the pattern in. There are numerous functions built\n",
    "into `re`, but lets start here with `re.search`, which simply returns a\n",
    "true/false based on whether the match occurs in the string or not. The\n",
    "general idea is as follows:\n",
    "\n",
    "    re.search(pattern, string)\n",
    "\n",
    "We can search a specified string, using an `if` statement as an example\n",
    "of how to control our code based on the presence or absence of matches:\n",
    "\n",
    "    Seq = \"ATCGGGGCCTAGAAT\"\n",
    "    if re.search(\"TAG\", Seq):\n",
    "        print(\"Stop codon (TAG) found.\\n\")\n",
    "\n",
    "The `^` character can be used to anchor the pattern at the beginning of\n",
    "the string, and the `$` anchors the pattern at the end\n",
    "\n",
    "    Seq = \"ATCGGGGCCTAGAAT\"\n",
    "    if re.search(\"^A\", Seq):\n",
    "        print(\"Seq begins with A.\\n\")\n",
    "\n",
    "    Seq = \"ATCGGGGCCTAGAAT\"\n",
    "    if re.search(\"T$\", Seq):\n",
    "        print(\"Seq ends with T.\\n\")\n",
    "    else:\n",
    "        print(\"Seq does not end with T.\\n\")\n",
    "\n",
    "This is just a brief introduction to get you started. We will cover more\n",
    "depth on working with regular expressions next week.\n",
    "\n",
    "Starting next week we will learn more detailed and useful use of the\n",
    "`re` library for matching, extracting, and otherwise taking advantage of\n",
    "the power of regular expression searches. The below table summarizes the\n",
    "functions we will learn, and what they can accomplish:\n",
    "\n",
    "| Function     | utility                                                        |\n",
    "|------------------------------------|------------------------------------|\n",
    "| `re.search`  | returns boolean for match occurrence in string                 |\n",
    "| `re.iter`    | processes multiple matches and returns a list of match objects |\n",
    "| `re.findall` | Returns all non-overlapping matches of pattern as a list       |\n",
    "| `re.sub`     | Find and replace expression match                              |\n",
    "| `re.split`   | Split string by the occurrences of pattern                     |\n",
    "| `re.escape`  | Escape special characters in pattern                           |"
   ]
  },
  {
   "cell_type": "code",
   "execution_count": 14,
   "id": "ccbab7d2",
   "metadata": {},
   "outputs": [],
   "source": [
    "IN_file=open('flies.txt', 'r')\n",
    "import sys"
   ]
  },
  {
   "cell_type": "code",
   "execution_count": 5,
   "id": "264439cc",
   "metadata": {},
   "outputs": [],
   "source": [
    "import sys\n",
    "import numpy\n",
    "import pandas"
   ]
  },
  {
   "cell_type": "code",
   "execution_count": 19,
   "id": "10a98aea",
   "metadata": {},
   "outputs": [
    {
     "data": {
      "text/plain": [
       "['fly1\\tD\\t180\\t1\\n',\n",
       " 'fly1\\tN\\t202\\t2\\n',\n",
       " 'fly2\\tD\\t177\\t3\\n',\n",
       " 'fly2\\tN\\t300\\n',\n",
       " 'fly3\\tD\\t80\\n',\n",
       " 'fly3\\tN\\t167\\n',\n",
       " 'fly4\\tD\\t300\\n',\n",
       " 'fly4\\tN\\t301\\n',\n",
       " 'fly5\\tD\\t150\\n',\n",
       " 'fly5\\tN\\t180\\n',\n",
       " 'fly11\\tD\\t180\\n',\n",
       " 'fly11\\tN\\t202\\n',\n",
       " 'fly12\\tD\\t177\\n',\n",
       " 'fly12\\tN\\t300\\n',\n",
       " 'fly13\\tD\\t80\\n',\n",
       " 'fly13\\tN\\t167\\n',\n",
       " 'fly14\\tD\\t300\\n',\n",
       " 'fly14\\tN\\t301\\n',\n",
       " 'fly15\\tD\\t150\\n',\n",
       " 'fly15\\tN\\t180\\n']"
      ]
     },
     "execution_count": 19,
     "metadata": {},
     "output_type": "execute_result"
    }
   ],
   "source": [
    "list(IN_file)"
   ]
  },
  {
   "cell_type": "code",
   "execution_count": 20,
   "id": "d5f7ecf4",
   "metadata": {},
   "outputs": [],
   "source": [
    "IN = IN_file.read()"
   ]
  },
  {
   "cell_type": "code",
   "execution_count": 21,
   "id": "3fae3694",
   "metadata": {},
   "outputs": [],
   "source": [
    "for Line in IN:\n",
    "    print(Line)   "
   ]
  }
 ],
 "metadata": {
  "kernelspec": {
   "display_name": "Python 3 (ipykernel)",
   "language": "python",
   "name": "python3"
  },
  "language_info": {
   "codemirror_mode": {
    "name": "ipython",
    "version": 3
   },
   "file_extension": ".py",
   "mimetype": "text/x-python",
   "name": "python",
   "nbconvert_exporter": "python",
   "pygments_lexer": "ipython3",
   "version": "3.11.4"
  }
 },
 "nbformat": 4,
 "nbformat_minor": 5
}
