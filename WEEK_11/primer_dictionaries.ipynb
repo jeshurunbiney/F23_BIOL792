{
 "cells": [
  {
   "cell_type": "markdown",
   "id": "5ffa1f90",
   "metadata": {},
   "source": [
    "# Python primer 7, Data Science I\n",
    "\n",
    "## Topics to cover\n",
    "\n",
    "- Dictionaries\n",
    "- More work with regular expressions\n",
    "- Input/Output: using loops to process many files at once.\n",
    "\n",
    "## Useful materials\n",
    "- Haddock and Dunn chapters and 9, bit of 11 \n",
    "- regular expression cheat sheet (python-regular-expressions-cheat-sheet-1.pdf)\n",
    "- slides from class\n",
    "- [python for biologists dictionaries tutorial](https://pythonforbiologists.com/tutorial/dictionaries.html)\n",
    "\n",
    "\n",
    "## Creating Dictionaries\n",
    "\n",
    "Dictionaries (also known as associative arrays, or hashes) are data structures that store unordered pairs of objects. Each pair consists of a key and a value. These types of structures that store pairs of data are common to many programming languages for several reasons. First, we often want one piece of information to be directly connected to another (names and phone numbers; gene name and sequence; site identifier and measurement; codons and their associated amino acids). We can pair such data using lists, but this turns out to be quite slow (and clumsy) for larger data because lists have a fixed ordering of elements. Dictionaries are unordered, thus they have the advantage of allowing you to look up or access pairs of information much more quickly.\n",
    "\n",
    "\n",
    "Dictionaries can be created by listing key:value pairs within curly brackets, with each pair (also referred to as an item) separated by a comma. Below illustrates how to hard code a dictionary (in this case a list of names and phone numbers) consisting of three items:"
   ]
  },
  {
   "cell_type": "code",
   "execution_count": 2,
   "id": "8ef5c1d8",
   "metadata": {},
   "outputs": [],
   "source": [
    "Pbook = { 'Ken Stephens':'2599855888','Mick Collins':'3544333321', 'Jen Miles':'9875842194' }\n"
   ]
  },
  {
   "cell_type": "code",
   "execution_count": 4,
   "id": "1a684ca8",
   "metadata": {},
   "outputs": [
    {
     "data": {
      "text/plain": [
       "dict_keys(['Ken Stephens', 'Mick Collins', 'Jen Miles'])"
      ]
     },
     "execution_count": 4,
     "metadata": {},
     "output_type": "execute_result"
    }
   ],
   "source": [
    "Pbook.keys()"
   ]
  },
  {
   "cell_type": "markdown",
   "id": "157d333b",
   "metadata": {},
   "source": [
    "While python has strict indent rules, statements can be split across lines when they are contained within curly brackets. This makes things much easier to read:"
   ]
  },
  {
   "cell_type": "code",
   "execution_count": 2,
   "id": "cd0a985c",
   "metadata": {},
   "outputs": [],
   "source": [
    "Pbook = { \n",
    "        'Ken Stephens':'2599855888', \n",
    "        'Mick Collins':'3544333321', \n",
    "        'Jen Miles':'9875842194' \n",
    "    }"
   ]
  },
  {
   "cell_type": "markdown",
   "id": "d1a07260",
   "metadata": {},
   "source": [
    "The entire dictionary contents can be printed (although this is seldom useful)"
   ]
  },
  {
   "cell_type": "code",
   "execution_count": 5,
   "id": "848c97e5",
   "metadata": {},
   "outputs": [
    {
     "name": "stdout",
     "output_type": "stream",
     "text": [
      "{'Ken Stephens': '2599855888', 'Mick Collins': '3544333321', 'Jen Miles': '9875842194'}\n"
     ]
    }
   ],
   "source": [
    " print(Pbook)"
   ]
  },
  {
   "cell_type": "markdown",
   "id": "0ca0b68b",
   "metadata": {},
   "source": [
    "Values are extracted from a dictionary by specifying the **dictionary name** and a key. The key is specified within `[]`. The below would return '9875842194'\n"
   ]
  },
  {
   "cell_type": "code",
   "execution_count": 6,
   "id": "96204cbf",
   "metadata": {},
   "outputs": [
    {
     "name": "stdout",
     "output_type": "stream",
     "text": [
      "3544333321\n"
     ]
    }
   ],
   "source": [
    "print(Pbook['Mick Collins'])"
   ]
  },
  {
   "cell_type": "markdown",
   "id": "aa21e738",
   "metadata": {},
   "source": [
    "Here is another dictionary, with western cities as keys and mid October temperatures as values."
   ]
  },
  {
   "cell_type": "code",
   "execution_count": 8,
   "id": "23a02fe2",
   "metadata": {},
   "outputs": [],
   "source": [
    "Ctemp = { \n",
    "        'Tucson': 95, \n",
    "        'Truckee': 65, \n",
    "        'Reno': 74,\n",
    "        'Laramie': 50,\n",
    "        'Flagstaff': 75,\n",
    "        'Bozeman': 70,\n",
    "        'Ketchum': 65 \n",
    "    }"
   ]
  },
  {
   "cell_type": "markdown",
   "id": "227e2e33",
   "metadata": {},
   "source": [
    "## Useful dictionary methods.\n",
    "\n",
    "Before we think about building dictionaries while processing real data, lets use the above example dictionary to demonstrate some commonly used methods to manipulate and extract information from dictionaries.\n",
    "\n",
    "- `.pop()`\n",
    "- `.get()`\n",
    "- `.items()`\n",
    "- `.keys()`\n",
    "- `.update()`\n",
    "- `.copy()`\n",
    "\n",
    "We can print or assign a specific value to a different variable name simply:\n"
   ]
  },
  {
   "cell_type": "code",
   "execution_count": 9,
   "id": "399bbefc",
   "metadata": {},
   "outputs": [
    {
     "name": "stdout",
     "output_type": "stream",
     "text": [
      "74\n"
     ]
    }
   ],
   "source": [
    "print(Ctemp['Reno'])    # prints 74 \n",
    "Rtemp = Ctemp['Reno']   # assigns 74 to Rtemp"
   ]
  },
  {
   "cell_type": "markdown",
   "id": "9acb3041",
   "metadata": {},
   "source": [
    "Key:value pairs can be removed from a dictionary using `.pop()`.  "
   ]
  },
  {
   "cell_type": "code",
   "execution_count": 7,
   "id": "40e82dcc",
   "metadata": {},
   "outputs": [],
   "source": [
    "Ctemp.pop('Tucson')  # will remove Tucson key and 95 value, returns value, dictionary no longer has this key:value pair\n",
    "print(Ctemp)\n",
    "Ctemp['Tucson']=95  # adds that key:value pair back."
   ]
  },
  {
   "cell_type": "markdown",
   "id": "36299ea0",
   "metadata": {},
   "source": [
    "`.keys()` returns a list of dict_keys, `.values()` returns a dict_values list, and `.items()` returns a list of key:value pairs"
   ]
  },
  {
   "cell_type": "code",
   "execution_count": 10,
   "id": "a8e4f821",
   "metadata": {},
   "outputs": [
    {
     "name": "stdout",
     "output_type": "stream",
     "text": [
      "95\n",
      "65\n",
      "74\n",
      "50\n",
      "75\n",
      "70\n",
      "65\n"
     ]
    }
   ],
   "source": [
    "vlist=Ctemp.values()\n",
    "for v in vlist:\n",
    "    print(v)  ## prints values\n",
    "\n",
    "\n"
   ]
  },
  {
   "cell_type": "code",
   "execution_count": 11,
   "id": "d381e145",
   "metadata": {},
   "outputs": [
    {
     "name": "stdout",
     "output_type": "stream",
     "text": [
      "Tucson\n",
      "Truckee\n",
      "Reno\n",
      "Laramie\n",
      "Flagstaff\n",
      "Bozeman\n",
      "Ketchum\n"
     ]
    }
   ],
   "source": [
    "klist=Ctemp.keys()\n",
    "for k in klist:\n",
    "    print(k)  ## prints keys\n"
   ]
  },
  {
   "cell_type": "code",
   "execution_count": 12,
   "id": "7f353b0b",
   "metadata": {},
   "outputs": [
    {
     "name": "stdout",
     "output_type": "stream",
     "text": [
      "('Tucson', 95)\n",
      "('Truckee', 65)\n",
      "('Reno', 74)\n",
      "('Laramie', 50)\n",
      "('Flagstaff', 75)\n",
      "('Bozeman', 70)\n",
      "('Ketchum', 65)\n"
     ]
    },
    {
     "data": {
      "text/plain": [
       "95"
      ]
     },
     "execution_count": 12,
     "metadata": {},
     "output_type": "execute_result"
    }
   ],
   "source": [
    "ilist=Ctemp.items()\n",
    "for i in ilist:\n",
    "    print(i)    ## prints items (key:value) pairs\n",
    "\n",
    "Ctemp.get('Tucson') ## returns 95, the value for the Tucson key"
   ]
  },
  {
   "cell_type": "markdown",
   "id": "0a7c5020",
   "metadata": {},
   "source": [
    "`.update()` adds a key:value pair to the dictionary. Specify both the key and value within curly brackets, surrounded by parentheses. Note below that Bridgeport is a string, so is enclosed in \"\", and 62 is an integer.\n"
   ]
  },
  {
   "cell_type": "code",
   "execution_count": 13,
   "id": "c96ecfdd",
   "metadata": {},
   "outputs": [
    {
     "name": "stdout",
     "output_type": "stream",
     "text": [
      "{'Tucson': 95, 'Truckee': 65, 'Reno': 74, 'Laramie': 50, 'Flagstaff': 75, 'Bozeman': 70, 'Ketchum': 65, 'Bridgeport': 62}\n"
     ]
    }
   ],
   "source": [
    "Ctemp.update({\"Bridgeport\": 62})\n",
    "print(Ctemp)"
   ]
  },
  {
   "cell_type": "markdown",
   "id": "b64eb6b7",
   "metadata": {},
   "source": [
    "`.copy()` simply copies the dictionary to the variable specified. Useful for copying prior to modifying"
   ]
  },
  {
   "cell_type": "code",
   "execution_count": 14,
   "id": "28fea62d",
   "metadata": {},
   "outputs": [
    {
     "name": "stdout",
     "output_type": "stream",
     "text": [
      "{'Tucson': 95, 'Truckee': 65, 'Reno': 74, 'Laramie': 50, 'Flagstaff': 75, 'Bozeman': 70, 'Ketchum': 65, 'Bridgeport': 62}\n"
     ]
    }
   ],
   "source": [
    "Ntemp = Ctemp.copy()\n",
    "print(Ntemp)"
   ]
  },
  {
   "cell_type": "markdown",
   "id": "6e2121c5",
   "metadata": {},
   "source": [
    "Getting the length of a dictionary works same as getting length of a list"
   ]
  },
  {
   "cell_type": "code",
   "execution_count": 16,
   "id": "b9c7396a",
   "metadata": {
    "scrolled": true
   },
   "outputs": [
    {
     "name": "stdout",
     "output_type": "stream",
     "text": [
      "8\n"
     ]
    }
   ],
   "source": [
    "Length_Ctemp=len(Ctemp)\n",
    "print(Length_Ctemp)"
   ]
  },
  {
   "cell_type": "markdown",
   "id": "59825ed6",
   "metadata": {},
   "source": [
    "### Nested Dictionaries.\n",
    "\n",
    "The use of nested dictionaries (dictionaries within dictionaries) adds flexibility, although things do tend to get complicated. Below is a short example of how to build nested dictionaries and how to access specific elements."
   ]
  },
  {
   "cell_type": "code",
   "execution_count": 17,
   "id": "5e5e80d5",
   "metadata": {},
   "outputs": [
    {
     "name": "stdout",
     "output_type": "stream",
     "text": [
      "Offense dict:  {9: 'Burrow', 1: 'Chase', 83: 'Boyd', 75: 'Brown', 5: 'Higgins'}\n",
      "Offense, number 1:  Chase\n",
      "Defense, number 29:  Taylor-Britt\n",
      "Offense {9: 'Burrow', 1: 'Chase', 83: 'Boyd', 75: 'Brown', 5: 'Higgins'}\n",
      "Offense dict_keys([9, 1, 83, 75, 5])\n",
      "Offense dict_values(['Burrow', 'Chase', 'Boyd', 'Brown', 'Higgins'])\n",
      "Defense {29: 'Taylor-Britt', 55: 'Wilson', 20: 'Turner', 21: 'Hilton', 33: 'Scott'}\n",
      "Defense dict_keys([29, 55, 20, 21, 33])\n",
      "Defense dict_values(['Taylor-Britt', 'Wilson', 'Turner', 'Hilton', 'Scott'])\n"
     ]
    }
   ],
   "source": [
    "#Making nested dictionary\n",
    "\n",
    "Bengals = {'Offense': {9: 'Burrow', 1: \"Chase\", 83: \"Boyd\", 75: \"Brown\", 5: \"Higgins\"}, \n",
    "        'Defense': {29: 'Taylor-Britt', 55: \"Wilson\", 20: \"Turner\", 21: \"Hilton\", 33: \"Scott\"}} \n",
    "\n",
    "# Accessing element using key \n",
    "print(\"Offense dict: \", Bengals['Offense']) \n",
    "print(\"Offense, number 1: \", Bengals['Offense'][1]) \n",
    "print(\"Defense, number 29: \", Bengals['Defense'][29]) \n",
    "\n",
    "#iterating through nested dictionaries\n",
    "for i in Bengals:\n",
    "    print(i, Bengals[i])\n",
    "    print(i, Bengals[i].keys())\n",
    "    print(i, Bengals[i].values())"
   ]
  },
  {
   "cell_type": "markdown",
   "id": "3a0b1652",
   "metadata": {},
   "source": [
    "## Building dictionaries on the fly with real data\n",
    "\n",
    "We will rarely construct dictionaries by hardcoding them, as above. Instead, we will populate them with key:value pairs as we loop through data. As with lists, we will often want to start with an empty dictionary that we populate within some form of loop. This is done simply with empty curly brackets."
   ]
  },
  {
   "cell_type": "code",
   "execution_count": 18,
   "id": "0cedc713",
   "metadata": {},
   "outputs": [],
   "source": [
    "Dict = {}"
   ]
  },
  {
   "cell_type": "markdown",
   "id": "67242a64",
   "metadata": {},
   "source": [
    "Lets look at some example code below that reads in a .fasta file containing alternating lines of identifiers and DNA sequence data. Within the `for` loop, we process two lines at a time, assigning them to different variables. We then build the dictionary \"ID_Seq\" within the loop, using ID as keys and Seq as values. I like to name dictionaries with two part names that suggest the variables used for keys and values, but like scalars and lists, you can name dictionaries anything you want."
   ]
  },
  {
   "cell_type": "code",
   "execution_count": 19,
   "id": "6272be4d",
   "metadata": {},
   "outputs": [
    {
     "name": "stdout",
     "output_type": "stream",
     "text": [
      "['SG_ref.fasta.short']\n"
     ]
    }
   ],
   "source": [
    "import glob\n",
    "file=glob.glob(\"SG_ref.fasta.short\") # note, glob.glob always returns a list, even if it only has one item.\n",
    "print(file) #\n",
    "IN = open(file[0], 'r') # see above comment, accessing first and only item in file list"
   ]
  },
  {
   "cell_type": "code",
   "execution_count": 27,
   "id": "e6df940e",
   "metadata": {},
   "outputs": [
    {
     "name": "stdout",
     "output_type": "stream",
     "text": [
      "AGTTTGAGGGCCGTGGACGGAGGGGGCCTTTCAGCCATGTGCAAGGTAGTGGTGGAGGTGGTGGATGTGAACGACAACGCACCAGAG\n"
     ]
    }
   ],
   "source": [
    "ID_Seq={}           # initializing the ID_seq dictionary\n",
    "\n",
    "for Line in IN:\n",
    "    ID = Line.strip('\\n')\n",
    "    Seq = IN.readline()\n",
    "    Seq = Seq.strip('\\n')\n",
    "    ID_Seq[ID]=Seq      # building the ID_seq dictionary\n",
    "#WORK ON DICTIONARY OUTSIDE OF LIST\n",
    "\n",
    "\n",
    "print(Seq)"
   ]
  },
  {
   "cell_type": "markdown",
   "id": "23f804d2",
   "metadata": {},
   "source": [
    "## Iterating over dictionaries.\n",
    "\n",
    "Much like we iterate over lists, we can iterate through dictionaries to access, and operate on, both key and value information within loops. The example code below illustrates using a `for` loop to iterate through the dictionary created above. The `sorted()` function sorts the hash by keys, which ensures that each time you loop through the hash the same order is followed."
   ]
  },
  {
   "cell_type": "code",
   "execution_count": 29,
   "id": "f113764e",
   "metadata": {
    "scrolled": true
   },
   "outputs": [],
   "source": [
    "for thing in sorted(ID_Seq.keys()):\n",
    "    print(\"Dictionary key is: \", thing)\n",
    "    print(\"Dictionary value is: \",ID_Seq[thing])"
   ]
  },
  {
   "cell_type": "markdown",
   "id": "28311473",
   "metadata": {},
   "source": [
    "Each iteration through the loop above, \"thing\" is assigned a key. Hence, the code will print to screen each key followed by its value on the following line.\n",
    "\n",
    "Here are some examples, based on the little Ctemp dictionary created above, of iterating through dictionaries.\n"
   ]
  },
  {
   "cell_type": "code",
   "execution_count": 30,
   "id": "53bb7e14",
   "metadata": {},
   "outputs": [
    {
     "name": "stdout",
     "output_type": "stream",
     "text": [
      "Ctemp key is:  Tucson\n",
      "Ctemp value is:  95\n",
      "Ctemp key is:  Truckee\n",
      "Ctemp value is:  65\n",
      "Ctemp key is:  Reno\n",
      "Ctemp value is:  74\n",
      "Ctemp key is:  Laramie\n",
      "Ctemp value is:  50\n",
      "Ctemp key is:  Flagstaff\n",
      "Ctemp value is:  75\n",
      "Ctemp key is:  Bozeman\n",
      "Ctemp value is:  70\n",
      "Ctemp key is:  Ketchum\n",
      "Ctemp value is:  65\n"
     ]
    }
   ],
   "source": [
    "Ctemp = { \n",
    "       'Tucson': 95, \n",
    "        'Truckee': 65, \n",
    "        'Reno': 74,\n",
    "        'Laramie': 50,\n",
    "        'Flagstaff': 75,\n",
    "        'Bozeman': 70,\n",
    "        'Ketchum': 65 \n",
    "    }   \n",
    "\n",
    "for city in Ctemp.keys():\n",
    "    print(\"Ctemp key is: \",city)\n",
    "    print(\"Ctemp value is: \", Ctemp[city])"
   ]
  },
  {
   "cell_type": "markdown",
   "id": "0908cd99",
   "metadata": {},
   "source": [
    "Above we iterate through the dictionary, and are assigning the keys to the the `city` variable for each time through the loop. The first print statement prints each dictionary key (assigned to `city` in this case), the second statement prints the value assigned to each key. If you look at your output below, you will see that dictionaries are unordered.\n",
    "\n",
    "To iterate through a dictionary in an ordered manner, we can use the sorted function to iterate by sorted key value. The difference between below and above is the elements are accessed by alphanumeric key value.\n"
   ]
  },
  {
   "cell_type": "code",
   "execution_count": 31,
   "id": "45bb29a6",
   "metadata": {},
   "outputs": [
    {
     "name": "stdout",
     "output_type": "stream",
     "text": [
      "Ctemp key is:  Bozeman\n",
      "Ctemp value is:  70\n",
      "Ctemp key is:  Flagstaff\n",
      "Ctemp value is:  75\n",
      "Ctemp key is:  Ketchum\n",
      "Ctemp value is:  65\n",
      "Ctemp key is:  Laramie\n",
      "Ctemp value is:  50\n",
      "Ctemp key is:  Reno\n",
      "Ctemp value is:  74\n",
      "Ctemp key is:  Truckee\n",
      "Ctemp value is:  65\n",
      "Ctemp key is:  Tucson\n",
      "Ctemp value is:  95\n"
     ]
    }
   ],
   "source": [
    "for city in sorted(Ctemp.keys()):\n",
    "    print(\"Ctemp key is: \",city)\n",
    "    print(\"Ctemp value is: \", Ctemp[city])\n",
    "    "
   ]
  },
  {
   "cell_type": "code",
   "execution_count": 34,
   "id": "8c4d9c80",
   "metadata": {},
   "outputs": [
    {
     "name": "stdout",
     "output_type": "stream",
     "text": [
      "Ctemp key is:  Bozeman\n",
      "Ctemp value is:  70\n",
      "Ctemp key is:  Flagstaff\n",
      "Ctemp value is:  75\n",
      "Ctemp key is:  Ketchum\n",
      "Ctemp value is:  65\n",
      "Ctemp key is:  Laramie\n",
      "Ctemp value is:  50\n",
      "Ctemp key is:  Reno\n",
      "Ctemp value is:  74\n",
      "Ctemp key is:  Truckee\n",
      "Ctemp value is:  65\n",
      "Ctemp key is:  Tucson\n",
      "Ctemp value is:  95\n"
     ]
    }
   ],
   "source": [
    "for city in sorted(Ctemp.keys()):\n",
    "    print(\"Ctemp key is: \",city)\n",
    "    print(\"Ctemp value is: \", Ctemp[city])\n",
    "    "
   ]
  },
  {
   "cell_type": "markdown",
   "id": "e9b03875",
   "metadata": {},
   "source": [
    "It is often useful to iterate over both key and values (items) in a dictionary to access both simultaneously via different variable names. This is fairly straightforward as well. Using the same Ctemp dictionary as above, but assigning variable names to keys, values and using the `.items()` dictionary function:"
   ]
  },
  {
   "cell_type": "code",
   "execution_count": 32,
   "id": "658d8a62",
   "metadata": {},
   "outputs": [
    {
     "name": "stdout",
     "output_type": "stream",
     "text": [
      "Key item is:  Tucson\n",
      "Value item is:  95\n",
      "Key item is:  Truckee\n",
      "Value item is:  65\n",
      "Key item is:  Reno\n",
      "Value item is:  74\n",
      "Key item is:  Laramie\n",
      "Value item is:  50\n",
      "Key item is:  Flagstaff\n",
      "Value item is:  75\n",
      "Key item is:  Bozeman\n",
      "Value item is:  70\n",
      "Key item is:  Ketchum\n",
      "Value item is:  65\n"
     ]
    }
   ],
   "source": [
    "for city, temp in Ctemp.items():\n",
    "    print(\"Key item is: \", city) # do something with keys\n",
    "    print(\"Value item is: \",temp) # do something with values"
   ]
  },
  {
   "cell_type": "markdown",
   "id": "48f69135",
   "metadata": {},
   "source": [
    "Notice in the above example, variables are assigned between `for` and `in` with the first variable name corresponding with keys, and the second corresponding with values. As usual, the names of those variables are arbitrary.\n",
    "\n",
    "\n",
    "To finish, here is an example chunk of code to open a file handle, build a dictionary, and then loop through that dictionary."
   ]
  },
  {
   "cell_type": "code",
   "execution_count": 20,
   "id": "483e0cf9",
   "metadata": {},
   "outputs": [
    {
     "name": "stdout",
     "output_type": "stream",
     "text": [
      "Sequence is coding\n",
      "Sequence is coding\n",
      "Sequence is coding\n",
      "Sequence is coding\n",
      "Sequence is coding\n",
      "Sequence is coding\n",
      "Sequence is coding\n",
      "Sequence is coding\n",
      "Sequence is coding\n",
      "Sequence is coding\n",
      "Sequence is coding\n",
      "Seq not CDS:  GTGGGTATACTTTCGTCGATTCTTCTTTTTCTTTATGTTTTAAGCTGTTTGTTTCTTTCGATTTTGTGATTCGATCTTTTAATCCGATGTTTCATTCGTCGATCCGAAAACTAGATTGTTCTCTGTATGATGATTTTCTGCTCAATCTTTGTTTGTGATTCTCTTTTGCAAGCCTATGAATTTCATTTGGACTTTCATTTTATGGTTCTGACTACTGAGTGATGCGTATATGTGTTTAGTGAGTTGACCTTGTAAGCTTTGGTTAATTTTTCTTAAATTCTCCAATCGAAATGACCTTGTTGCTGGAACTAGAAATTTGACGTGTAGCAAAACTTGAGAACAGATCATGAAGTTTTTTTTTTTTTTTTTGTATTGTGCATGATTTACTTGATGAAAGAATGTTTTTTTCTTGCTTTTATTGACGATTGAATTGATGGGTCTTACGCGTGTGTATTCATGAGTTTCATCTTCTGTAACTACCTTTTTCTGAAAGCACTATCTATGTTTTGGTATGTCCTTAATTTGCCTAACCACCACGTGATTGCTCATTTGCTCTTTCATTTGAATCTAG\n",
      "Sequence is coding\n",
      "Sequence is coding\n",
      "Sequence is coding\n",
      "Sequence is coding\n",
      "Sequence is coding\n",
      "Sequence is coding\n",
      "Sequence is coding\n",
      "Sequence is coding\n",
      "Sequence is coding\n",
      "Sequence is coding\n",
      "Sequence is coding\n",
      "Sequence is coding\n",
      "Sequence is coding\n",
      "Sequence is coding\n",
      "Sequence is coding\n",
      "Sequence is coding\n",
      "Sequence is coding\n",
      "Sequence is coding\n",
      "Sequence is coding\n",
      "Sequence is coding\n",
      "Sequence is coding\n",
      "Sequence is coding\n",
      "Sequence is coding\n",
      "Sequence is coding\n",
      "Sequence is coding\n",
      "Sequence is coding\n",
      "Sequence is coding\n",
      "Sequence is coding\n",
      "Sequence is coding\n",
      "Sequence is coding\n",
      "Sequence is coding\n",
      "Sequence is coding\n",
      "Sequence is coding\n",
      "Sequence is coding\n",
      "Sequence is coding\n",
      "Sequence is coding\n",
      "Sequence is coding\n",
      "Sequence is coding\n",
      "Sequence is coding\n",
      "Sequence is coding\n",
      "Sequence is coding\n",
      "Sequence is coding\n",
      "Sequence is coding\n",
      "Sequence is coding\n",
      "Sequence is coding\n",
      "Seq not CDS:  GTACGTATGTTCCTCTGTTTTTCACCCGATTCAAAAAATGGATTTTTTTTTGTTTATCTGGGTATTTGCTGGAGGAATTAATCAGATTGCTTTTATGGGTTTTTTATTTTTGTTCTTGTGTTCTGATTCCCTCTGTTTCTTGACAAACAAGAATCTTCCTTTGTTGATATTTGGGGTTTTGGTATTCTCATGATTTTGCATCTAATTTGTTTGTTGAAATGCCCCAACTAACCACCTTTTGTTGCTTTTTCGTATTCTTTGCTCTGTTCTTATATACTTTCTCTGTGCAGAACACATTGCATTTTTTAGGAAACACTGATCTATCTGGCTTGTCTGCTATAGATTAGTTTATTTGTCAACTTGTCACTGATTCGGTTCTTTTTCTTCTTGTAG\n",
      "Sequence is coding\n",
      "Sequence is coding\n",
      "Sequence is coding\n",
      "Sequence is coding\n",
      "Sequence is coding\n",
      "Sequence is coding\n",
      "Sequence is coding\n",
      "Sequence is coding\n",
      "Sequence is coding\n",
      "Sequence is coding\n",
      "Sequence is coding\n",
      "Sequence is coding\n",
      "Sequence is coding\n",
      "Sequence is coding\n",
      "Sequence is coding\n",
      "Sequence is coding\n",
      "Sequence is coding\n",
      "Sequence is coding\n",
      "Sequence is coding\n",
      "Sequence is coding\n",
      "Sequence is coding\n",
      "Sequence is coding\n",
      "Sequence is coding\n",
      "Sequence is coding\n",
      "Sequence is coding\n",
      "Sequence is coding\n",
      "Sequence is coding\n",
      "Sequence is coding\n",
      "Sequence is coding\n",
      "Sequence is coding\n",
      "Sequence is coding\n",
      "Sequence is coding\n",
      "Sequence is coding\n",
      "Sequence is coding\n",
      "Sequence is coding\n",
      "Sequence is coding\n",
      "Sequence is coding\n",
      "Sequence is coding\n",
      "Sequence is coding\n",
      "Sequence is coding\n",
      "Sequence is coding\n",
      "Sequence is coding\n",
      "Sequence is coding\n",
      "Sequence is coding\n",
      "Sequence is coding\n",
      "Sequence is coding\n",
      "Sequence is coding\n",
      "Sequence is coding\n",
      "Sequence is coding\n",
      "Sequence is coding\n",
      "Sequence is coding\n",
      "Sequence is coding\n",
      "Sequence is coding\n",
      "Seq not CDS:  GTAAGTTGATTTCCAGTTTCTTCTTAACGAATCATAAGATCTCATCTCTAAACCTTCATTTTCCGATTCACATTCCCTTTAATCCAACTTCGAACCGGTGAATCTGAACCCATTTCTCGCTTCTTCTGTTTTATTCATACCCGATTCGTTTCAAAATCTGCAGTATAGTCTTAATCTGTTTGTGCAAGTAGAGAAAAATCAATAAAGCCGAAGATAACACTCGAGTGGCTATAATTGTTTTTTCCCAGGATCTGTAAATGATTTCTCGTATTTATTACTAAATATTTTATTCGAGATCCGAAAATATCTATTGTTTCGTCTCTTATAGCAATGAGCTCATAGGAATTATTTTTGGTGTTGCAG\n",
      "Sequence is coding\n",
      "Sequence is coding\n",
      "Sequence is coding\n",
      "Sequence is coding\n",
      "Sequence is coding\n",
      "Sequence is coding\n",
      "Sequence is coding\n",
      "Sequence is coding\n",
      "Sequence is coding\n",
      "Sequence is coding\n",
      "Sequence is coding\n",
      "Sequence is coding\n",
      "Sequence is coding\n",
      "Sequence is coding\n",
      "Sequence is coding\n",
      "Sequence is coding\n",
      "Sequence is coding\n",
      "Sequence is coding\n",
      "Sequence is coding\n",
      "Sequence is coding\n",
      "Sequence is coding\n",
      "Sequence is coding\n",
      "Sequence is coding\n",
      "Sequence is coding\n",
      "Sequence is coding\n",
      "Sequence is coding\n",
      "Sequence is coding\n",
      "Seq not CDS:  GTATATTATCTCCTTCTTTGTTATTGTTTTTGTTTGGTCTGAATCGGACTTGGATTTAGAACGGAGATCCGACGGTTACTCCAACTTTAAACCGACTTTATTTTAAGACATTGTTCGAGTAGTGTTGGGTTTTAGAAGGATCTCTCTGTTTGGGATTTGTTGTTTGACTCTGTCGGTGTTTTTTGTTTGTTTGTTGTTGTTTTTCATTTTGGAAAGTGGATTTTGAGTCATTTAGGGTTCTTCTTTTTCAGTCTGAGTTCCAGATCTGGTAATTTCACTTCATAAATTTATATGGTAATCATTGTTTTTTTTTTTTGTTCTTTCTTGATTCTTACATTTAGTTATCATTAGGTTTATCTTTATAAGCTTATTATTAGAGTTGATTAGAACAAGATAATGTGTTACTCTCCTTTTTTGCCATAACTAATTAATGAATTAAAAGACTTCTTCATTTTGACTATTGTGGTAGACTAGTAGTTGCCATATTCACATACTAATATTGGCTTGTGTTGTTTCTTGGGCAATGCAG\n",
      "Sequence is coding\n",
      "Sequence is coding\n",
      "Sequence is coding\n",
      "Sequence is coding\n",
      "Sequence is coding\n",
      "Sequence is coding\n",
      "Sequence is coding\n",
      "Sequence is coding\n",
      "Seq not CDS:  GTTCTTTCTTTATCACTTTAAACCCCTTCATTTTGATTGATTATGCATCACTTGTAAGATATTCTTGCTGATTCTTCAATCATTTTTGTATCATAG\n",
      "Sequence is coding\n",
      "Sequence is coding\n",
      "Sequence is coding\n",
      "Sequence is coding\n",
      "Sequence is coding\n",
      "Sequence is coding\n",
      "Sequence is coding\n",
      "Sequence is coding\n",
      "Sequence is coding\n",
      "Sequence is coding\n",
      "Sequence is coding\n",
      "Sequence is coding\n",
      "Sequence is coding\n",
      "Sequence is coding\n",
      "Sequence is coding\n",
      "Sequence is coding\n",
      "Sequence is coding\n",
      "Sequence is coding\n",
      "Sequence is coding\n",
      "Sequence is coding\n",
      "Sequence is coding\n",
      "Sequence is coding\n",
      "Sequence is coding\n",
      "Sequence is coding\n",
      "Sequence is coding\n",
      "Sequence is coding\n",
      "Sequence is coding\n",
      "Sequence is coding\n",
      "Sequence is coding\n",
      "Sequence is coding\n",
      "Sequence is coding\n",
      "Sequence is coding\n",
      "Sequence is coding\n",
      "Sequence is coding\n",
      "Sequence is coding\n",
      "Sequence is coding\n",
      "Sequence is coding\n",
      "Sequence is coding\n",
      "Sequence is coding\n",
      "Sequence is coding\n",
      "Sequence is coding\n",
      "Sequence is coding\n",
      "Sequence is coding\n",
      "Sequence is coding\n",
      "Sequence is coding\n",
      "Sequence is coding\n",
      "Sequence is coding\n",
      "Sequence is coding\n",
      "Sequence is coding\n",
      "Sequence is coding\n",
      "Seq not CDS:  GTGAGTCTTTGCTTTCTCTTTTCCCTGCTGTTGTTGTTGTTTCTTTTTGGTTTTTATTCTCAATGTTGATGAAGAATTTTTGGTACTTGTGTCTTTAGACTAGTGTTTTCGTTTTTGAATTCCATGGATTATGATTTGTCACTTCGTAAGTTTGGTGCTTTGGTTTGTTTTTCATCTCAAAATCTAATTTTCCTTTGGCACAATGTTTGATTAGTATCTCATAATCAATTAGTTATATATATGCTTTATGATTAAGCTGTAACAGTTTTGTTTGGATTTTGTATGGTTTTGTTCACAG\n",
      "Seq not CDS:  GTAACATTATATTACTCTTGCCACTCTTTTTTGAACTGTAATGATGCATTGGAATGGCAATTGTGTGAGATGATAAATATTGTATTTTCTTTTCTTGCAG\n",
      "Seq not CDS:  GTGAGTCATCTTCTGCGAATCGACGCGATTATTGGATTGTTTTTGTTTTGAATTTTGCTGTCGGTTCTTCACATCTATCGTATTGTAGCTCGTAAAGTCATTTTCTGGGATTTGAACTCGAGATTTCTCAGTTTCCTGCTGAGAATTTTAGTTCAAAACTTCATTGATTTGTTCTCTTTCTCTCTAATTACTTGTATAATTAGTTAATTGGAATAGCTTTTGTTATATTTCGTTTAGTTGGTGATGGGTGAGTTGCATTGTGCTCACAATTGGGTATTTGGTGGTCAATCTTTGGATTTTTATGTTTGAATCCACTGATTAGCTGTATTGTTTGACCTTAATTTTGGTTAAACCCTGATTTTAATTTTTCTCTTTTCCAG\n",
      "Sequence is coding\n",
      "Sequence is coding\n",
      "Sequence is coding\n",
      "Sequence is coding\n",
      "Sequence is coding\n",
      "Sequence is coding\n",
      "Sequence is coding\n",
      "Sequence is coding\n",
      "Sequence is coding\n",
      "Sequence is coding\n",
      "Sequence is coding\n",
      "Sequence is coding\n",
      "Sequence is coding\n",
      "Sequence is coding\n",
      "Sequence is coding\n",
      "Sequence is coding\n",
      "Sequence is coding\n",
      "Sequence is coding\n",
      "Sequence is coding\n",
      "Sequence is coding\n",
      "Sequence is coding\n",
      "Sequence is coding\n",
      "Sequence is coding\n",
      "Seq not CDS:  GTAAGTTCTTCGAATTTGATTCAAAGTTTTCTAGAAACGTTTCTTGTATAAACACACACATATGCAACTGTACAACATCATTGAAAGCTTATATCCATAAAGAACACAATAATCTTACATCTTTGACCACAAAAAGAACATAGAAAAGTACAAAACTGAGTGATTACACCGTAGATGCACCTGAAAAACTTATAACATTTGTACTTAGTATCCACGAACCTGTCTTGTCCTGACTGAAACTGGACCCTTCAAACCTGCTTTACGCATAATAGGATCTTCAATTGAACGAACCATGTGGTCCACATGTCTTGTATCCGCTCTATTCGAACCAACCATACGATTTTGCTCATCTTTAGACTTACTAATAGTAATAGTCTCAACACTAGGTTGGGTTTCTTCTTCACTATCGTAGATAATAGTATCCTTCTCCAATAGCTTCACAGGGTCTTCTCTGAATGACATCACTGGGACATCAATAATATCTTCTGAATCTGACATCGACCTTTTAGATTCTGACATCACATCCCCTTCCCCTTCTGAAGAATCATCATTACCTTCTTGTTCTTGTTCTGACTCTTTGTTTTCAGAACCATGAAATGAATTTTCCCCACCAATGTTACCCGGACTGTCATGTCCACGAGGAGAAAACTGAGAAAGCTCCACAGCCGCTTGTGCAGCCTCTGCTGCATGAGCTGCTGACTCAAACGCTGCTTGTGCAGCATCAGCCACATCTTTGTACTTCTTCTTTCCTCTCTTGACCGAATCAGATAAACCATAACCTTCTCCTCTGCCATCTTTACTTGTTAGCTTAGTCTTACTAACATCTGATGTTCCCTGCATATTTGTTGTTCCCTGCAAATGTTACAAATTTGATTAGAACATGATTTTTTCAACTTTTTGTTATCTTGGTGGTTAATTGCAG\n",
      "Sequence is coding\n",
      "Sequence is coding\n",
      "Sequence is coding\n",
      "Sequence is coding\n",
      "Sequence is coding\n",
      "Sequence is coding\n",
      "Sequence is coding\n",
      "Sequence is coding\n",
      "Sequence is coding\n",
      "Sequence is coding\n",
      "Sequence is coding\n",
      "Sequence is coding\n",
      "Sequence is coding\n",
      "Sequence is coding\n",
      "Sequence is coding\n",
      "Sequence is coding\n",
      "Sequence is coding\n",
      "Sequence is coding\n",
      "Sequence is coding\n",
      "Sequence is coding\n",
      "Sequence is coding\n",
      "Sequence is coding\n",
      "Sequence is coding\n",
      "Sequence is coding\n",
      "Sequence is coding\n",
      "Sequence is coding\n",
      "Sequence is coding\n",
      "Sequence is coding\n",
      "Sequence is coding\n",
      "Sequence is coding\n",
      "Sequence is coding\n",
      "Sequence is coding\n",
      "Sequence is coding\n",
      "Sequence is coding\n",
      "Sequence is coding\n",
      "Sequence is coding\n",
      "Sequence is coding\n",
      "Sequence is coding\n",
      "Sequence is coding\n",
      "Sequence is coding\n",
      "Sequence is coding\n",
      "Sequence is coding\n",
      "Sequence is coding\n",
      "Sequence is coding\n",
      "Sequence is coding\n",
      "Sequence is coding\n",
      "Sequence is coding\n",
      "Sequence is coding\n",
      "Sequence is coding\n",
      "Sequence is coding\n",
      "Sequence is coding\n",
      "Sequence is coding\n",
      "Sequence is coding\n",
      "Sequence is coding\n",
      "Sequence is coding\n",
      "Sequence is coding\n",
      "Sequence is coding\n",
      "Sequence is coding\n",
      "Sequence is coding\n",
      "Seq not CDS:  GTAAGTAACTGGTGTTGATTAGTTATATAGTGTGTATTGCTTAGAAGAGGAGAAAGGTTAGACTTTCTAGCATGCTTTGTGTAGACACTATCTTATAACTGGACATGTTATGTGAATCTGTTTGTGGTAGGAGAAAATTGGAATATGGATGTTTGGATAGTTATATGTATGAACTGATCAGGTCTTAGAGTGACTTAGTTTTGCGGAAGTTGTGGATACACTGGTTAATTATTGATATCAATCTGACTGCAATCACAAAGGTTAAAGCTTAGTCATGGACTTTCTTCGGTGGTTTTAGAAACAGGACATGTTTTGGAATGTATAGAAATGAAATTGATAGATCTTGGAGTGACTCAATTTTGGAGACATATGGGCCGATATTATAGATACCAATCCGCTTGCAATTGCGTCCATCTTTAATCTGCAACAGAGCTAAACCTAGTCACAGAATTTCATTGATGAATTAATTATTTGAGATATGAGATGTTGTGGACTGTATGAAGAAGGATAGAGCTCCAACATTTAGGTTTTGATTGGTTTAAACAATAGTTCCAATAGGGTTAAGGCATATAGTCAAAATCTCAAGTTCAAATTGGATTGATGATTTTTGTATTTGGTTCAAAGATTTTAAAGGTTTTTTCTTGCTCCAATGACACAG\n",
      "Seq not CDS:  GTAAGATTTTACATCTTTATGTTTGATCTTGTTTCCTGAGATCGTATTCGTGTTTGCTCTTGGATTTATAACTAGCTAGCTTCTCATGGATTAGTAGAGTCTGATAACTTTTGAGCTCGACATAG\n",
      "Sequence is coding\n",
      "Sequence is coding\n",
      "Sequence is coding\n",
      "Sequence is coding\n",
      "Sequence is coding\n",
      "Sequence is coding\n",
      "Sequence is coding\n",
      "Sequence is coding\n",
      "Sequence is coding\n",
      "Sequence is coding\n",
      "Sequence is coding\n",
      "Sequence is coding\n",
      "Sequence is coding\n",
      "Sequence is coding\n",
      "Seq not CDS:  GTAAAGTTACATCTTTTAATGTCTCTGCACATTTTGTTACTCCAAGCAGAGTTCTCATAGCATCATTATCTTTGCAG\n",
      "Sequence is coding\n",
      "Sequence is coding\n",
      "Sequence is coding\n",
      "Sequence is coding\n",
      "Sequence is coding\n",
      "Sequence is coding\n",
      "Sequence is coding\n",
      "Sequence is coding\n",
      "Sequence is coding\n",
      "Sequence is coding\n",
      "Sequence is coding\n",
      "Sequence is coding\n",
      "Sequence is coding\n",
      "Sequence is coding\n",
      "Sequence is coding\n",
      "Sequence is coding\n",
      "Sequence is coding\n",
      "Sequence is coding\n",
      "Sequence is coding\n",
      "Sequence is coding\n",
      "Sequence is coding\n",
      "Sequence is coding\n",
      "Sequence is coding\n",
      "Sequence is coding\n",
      "Sequence is coding\n",
      "Sequence is coding\n",
      "Sequence is coding\n",
      "Sequence is coding\n",
      "Sequence is coding\n",
      "Sequence is coding\n",
      "Sequence is coding\n",
      "Sequence is coding\n",
      "Sequence is coding\n",
      "Sequence is coding\n",
      "Sequence is coding\n",
      "Sequence is coding\n",
      "Sequence is coding\n",
      "Sequence is coding\n",
      "Sequence is coding\n",
      "Sequence is coding\n",
      "Sequence is coding\n",
      "Sequence is coding\n",
      "Sequence is coding\n",
      "Sequence is coding\n",
      "Sequence is coding\n",
      "Sequence is coding\n",
      "Sequence is coding\n",
      "Sequence is coding\n",
      "Sequence is coding\n",
      "Sequence is coding\n",
      "Sequence is coding\n",
      "Sequence is coding\n",
      "Sequence is coding\n",
      "Sequence is coding\n",
      "Sequence is coding\n",
      "Sequence is coding\n",
      "Sequence is coding\n",
      "Sequence is coding\n",
      "Sequence is coding\n",
      "Sequence is coding\n",
      "Sequence is coding\n",
      "Sequence is coding\n",
      "Sequence is coding\n",
      "Sequence is coding\n",
      "Sequence is coding\n",
      "Sequence is coding\n",
      "Sequence is coding\n",
      "Sequence is coding\n",
      "Sequence is coding\n",
      "Sequence is coding\n",
      "Sequence is coding\n",
      "Sequence is coding\n",
      "Sequence is coding\n",
      "Sequence is coding\n",
      "Sequence is coding\n",
      "Sequence is coding\n",
      "Sequence is coding\n",
      "Sequence is coding\n",
      "Sequence is coding\n",
      "Sequence is coding\n",
      "Sequence is coding\n",
      "Sequence is coding\n",
      "Sequence is coding\n",
      "Sequence is coding\n",
      "Sequence is coding\n",
      "Sequence is coding\n",
      "Sequence is coding\n",
      "Sequence is coding\n",
      "Sequence is coding\n",
      "Sequence is coding\n",
      "Sequence is coding\n",
      "Sequence is coding\n",
      "Sequence is coding\n",
      "Sequence is coding\n",
      "Sequence is coding\n",
      "Sequence is coding\n",
      "Sequence is coding\n",
      "Sequence is coding\n",
      "Sequence is coding\n",
      "Sequence is coding\n",
      "Sequence is coding\n",
      "Sequence is coding\n",
      "Sequence is coding\n",
      "Sequence is coding\n",
      "Sequence is coding\n",
      "Sequence is coding\n",
      "Sequence is coding\n",
      "Sequence is coding\n",
      "Sequence is coding\n",
      "Sequence is coding\n",
      "Sequence is coding\n",
      "Sequence is coding\n",
      "Sequence is coding\n",
      "Sequence is coding\n",
      "Sequence is coding\n",
      "Sequence is coding\n",
      "Sequence is coding\n",
      "Sequence is coding\n",
      "Sequence is coding\n",
      "Sequence is coding\n",
      "Sequence is coding\n",
      "Sequence is coding\n",
      "Sequence is coding\n",
      "Sequence is coding\n",
      "Sequence is coding\n",
      "Sequence is coding\n",
      "Sequence is coding\n",
      "Sequence is coding\n",
      "Sequence is coding\n",
      "Sequence is coding\n",
      "Sequence is coding\n",
      "Sequence is coding\n",
      "Sequence is coding\n",
      "Sequence is coding\n",
      "Sequence is coding\n",
      "Sequence is coding\n",
      "Sequence is coding\n",
      "Sequence is coding\n",
      "Sequence is coding\n",
      "Sequence is coding\n",
      "Sequence is coding\n",
      "Sequence is coding\n",
      "Sequence is coding\n",
      "Sequence is coding\n",
      "Sequence is coding\n",
      "Sequence is coding\n",
      "Sequence is coding\n",
      "Sequence is coding\n",
      "Sequence is coding\n",
      "Sequence is coding\n",
      "Sequence is coding\n",
      "Sequence is coding\n",
      "Sequence is coding\n",
      "Sequence is coding\n",
      "Sequence is coding\n",
      "Sequence is coding\n",
      "Sequence is coding\n",
      "Sequence is coding\n",
      "Sequence is coding\n",
      "Sequence is coding\n",
      "Sequence is coding\n",
      "Sequence is coding\n",
      "Sequence is coding\n",
      "Sequence is coding\n",
      "Sequence is coding\n",
      "Sequence is coding\n",
      "Sequence is coding\n",
      "Sequence is coding\n",
      "Sequence is coding\n",
      "Sequence is coding\n",
      "Sequence is coding\n",
      "Sequence is coding\n",
      "Sequence is coding\n",
      "Sequence is coding\n",
      "Sequence is coding\n",
      "Sequence is coding\n",
      "Sequence is coding\n",
      "Sequence is coding\n",
      "Sequence is coding\n",
      "Sequence is coding\n",
      "Sequence is coding\n",
      "Sequence is coding\n",
      "Sequence is coding\n",
      "Sequence is coding\n",
      "Sequence is coding\n",
      "Sequence is coding\n",
      "Sequence is coding\n",
      "Sequence is coding\n",
      "Sequence is coding\n",
      "Sequence is coding\n",
      "Sequence is coding\n",
      "Sequence is coding\n",
      "Sequence is coding\n",
      "Sequence is coding\n",
      "Sequence is coding\n",
      "Sequence is coding\n",
      "Sequence is coding\n",
      "Sequence is coding\n",
      "The total number of items in ID_Seq dictionary is:  500\n"
     ]
    }
   ],
   "source": [
    "import re\n",
    "file=glob.glob(\"no60_intron_IME_data.fasta.short\") # accessing file in current directory using glob as above.\n",
    "IN = open(file[0], 'r')\n",
    "\n",
    "ID_Seq={}           # initializing the ID_seq dictionary\n",
    "readCTR=0\n",
    "\n",
    "for Line in IN:\n",
    "    ID = Line.strip('\\n') # first line corresponds to an ID\n",
    "    Seq = IN.readline() #reading second line .fa, a DNA seq\n",
    "    Seq = Seq.strip('\\n')\n",
    "    ID_Seq[ID]=Seq      # building the ID_seq dictionary\n",
    "    readCTR += 1\n",
    "    #WORK ON DICTIONARY OUTSIDE OF LIST\n",
    "\n",
    "for id, seq in ID_Seq.items(): # using .items, working on both value and key of dictionary at same time\n",
    "    \n",
    "    if re.search(\"CDS\", id):\n",
    "        print(\"Sequence is coding\")\n",
    "    else:\n",
    "        print(\"Seq not CDS: \", seq)\n",
    "\n",
    "print(\"The total number of items in ID_Seq dictionary is: \", readCTR)\n",
    "       "
   ]
  },
  {
   "cell_type": "code",
   "execution_count": null,
   "id": "12a5f5d4",
   "metadata": {},
   "outputs": [],
   "source": [
    "\n"
   ]
  }
 ],
 "metadata": {
  "kernelspec": {
   "display_name": "Python 3 (ipykernel)",
   "language": "python",
   "name": "python3"
  },
  "language_info": {
   "codemirror_mode": {
    "name": "ipython",
    "version": 3
   },
   "file_extension": ".py",
   "mimetype": "text/x-python",
   "name": "python",
   "nbconvert_exporter": "python",
   "pygments_lexer": "ipython3",
   "version": "3.11.4"
  }
 },
 "nbformat": 4,
 "nbformat_minor": 5
}
