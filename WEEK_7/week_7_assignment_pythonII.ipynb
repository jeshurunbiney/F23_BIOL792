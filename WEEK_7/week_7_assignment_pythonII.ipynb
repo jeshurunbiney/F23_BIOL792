{
 "cells": [
  {
   "cell_type": "markdown",
   "id": "7fe64585",
   "metadata": {},
   "source": [
    "# Python assignment 2\n",
    "\n",
    "## Topics to cover\n",
    "- More string operations\n",
    "- lists\n",
    "- conditionals\n",
    "- for loops\n",
    "\n",
    "<p>&nbsp;</p>"
   ]
  },
  {
   "cell_type": "markdown",
   "id": "1bfca3f0",
   "metadata": {},
   "source": [
    "## 1. A bit more string work. This problem involves working with a DNA sequence that has some information in front of it. To start your program, type (or copy) this line into your program and assign it to a string.\n",
    "\n",
    "    DNA_Info = 'SAMPLE_110 Pop3 atatctcgcggggtttatatatattatttaaa'\n",
    "\n",
    "Note: Chapter 8 of Haddock and Dunn walks you through a number of very similar examples for working with DNA sequences.\n",
    "\n",
    "A. Get rid of everything other than the DNA sequence (using `str.replace`), and save this to another string.\n",
    "\n",
    "<p>&nbsp;</p>"
   ]
  },
  {
   "cell_type": "code",
   "execution_count": 2,
   "id": "f06c9c9f",
   "metadata": {},
   "outputs": [
    {
     "name": "stdout",
     "output_type": "stream",
     "text": [
      "atatctcgcggggtttatatatattatttaaa\n"
     ]
    }
   ],
   "source": [
    "DNA_Info = 'SAMPLE_110 Pop3 atatctcgcggggtttatatatattatttaaa'\n",
    "\n",
    "# Replace non-DNA characters with an empty string\n",
    "cleaned_DNA = DNA_Info.replace(\" \", \"\").replace(\"SAMPLE_110\", \"\").replace(\"Pop3\", \"\")\n",
    "\n",
    "# Print the cleaned DNA sequence\n",
    "print(cleaned_DNA)\n",
    "\n"
   ]
  },
  {
   "cell_type": "markdown",
   "id": "f5ea9939",
   "metadata": {},
   "source": [
    "B. Change the DNA sequence string to contain uppercase rather than lower case. \n",
    "<p>&nbsp;</p>\n"
   ]
  },
  {
   "cell_type": "code",
   "execution_count": 3,
   "id": "30bac13b",
   "metadata": {},
   "outputs": [
    {
     "name": "stdout",
     "output_type": "stream",
     "text": [
      "ATATCTCGCGGGGTTTATATATATTATTTAAA\n"
     ]
    }
   ],
   "source": [
    "# convert to uppercase\n",
    "Upper_DNA = cleaned_DNA.upper()\n",
    "\n",
    "# Print the uppercase DNA sequence\n",
    "print(Upper_DNA)\n"
   ]
  },
  {
   "cell_type": "markdown",
   "id": "3330e338",
   "metadata": {},
   "source": [
    "C. Count the number of Gs, Cs, Ts, and As in the DNA sequence, calculate and print out the GC content of the sequence (Number of C and G bases divided by total sequence length)\n",
    "<p>&nbsp;</p>"
   ]
  },
  {
   "cell_type": "code",
   "execution_count": 4,
   "id": "a594ac89",
   "metadata": {},
   "outputs": [
    {
     "name": "stdout",
     "output_type": "stream",
     "text": [
      "Number of Gs: 5\n",
      "Number of Cs: 3\n",
      "Number of Ts: 14\n",
      "Number of As: 10\n",
      "GC content: 0.25\n"
     ]
    }
   ],
   "source": [
    "# Count the number of Gs, Cs, Ts, and As\n",
    "count_G = Upper_DNA.count('G')\n",
    "count_C = Upper_DNA.count('C')\n",
    "count_T = Upper_DNA.count('T')\n",
    "count_A = Upper_DNA.count('A')\n",
    "\n",
    "# Calculate the GC content\n",
    "total_length = len(Upper_DNA)\n",
    "gc_content = (count_G + count_C) / total_length\n",
    "\n",
    "# Print the counts and GC content\n",
    "print(f'Number of Gs: {count_G}')\n",
    "print(f'Number of Cs: {count_C}')\n",
    "print(f'Number of Ts: {count_T}')\n",
    "print(f'Number of As: {count_A}')\n",
    "print(f'GC content: {gc_content:.2f}')"
   ]
  },
  {
   "cell_type": "markdown",
   "id": "42ff241b",
   "metadata": {},
   "source": [
    "D. Reverse the order of the DNA sequence. There are two ways to reverse strings, one involves turning the string into a list, using `.reverse` (which only works with a list), then turning the list back into a string. The other way is much simpler to type, but it looks wierd (It uses slices), as below.\n",
    "    \n",
    "    Seq='ATCGGGGGG'\n",
    "    Rev = Seq[::-1]\n",
    "\n",
    "<p>&nbsp;</p>"
   ]
  },
  {
   "cell_type": "code",
   "execution_count": 5,
   "id": "3837fda5",
   "metadata": {},
   "outputs": [
    {
     "name": "stdout",
     "output_type": "stream",
     "text": [
      "AAATTTATTATATATATTTGGGGCGCTCTATA\n"
     ]
    }
   ],
   "source": [
    "Reversed_DNA = Upper_DNA[::-1]\n",
    "print(Reversed_DNA)"
   ]
  },
  {
   "cell_type": "markdown",
   "id": "538442ba",
   "metadata": {},
   "source": [
    "## 2. Here we are going to practice manipulating a simple list. Execute the tasks for each letter in one script and provide informative print statements to track your progress. Lets start with a single scalar:\n",
    "\n",
    "    DNA_Seq = 'A,C,G,T,A,A,A,T,G,C,C,A,T,G,C,C,G,G,A,A,T,C,G,A,T,T,T'\n",
    "\n",
    "A. Work with DNA_Seq above, which is currently a string. Often you will read in large files of ',' separated values one line at a time. One way to extract items from that line (or the thousands that may follow) is to split the string based on ',' and create a list out of the line. This way, you can easily use list indeces to work on specified “columns” of data, or you can loop through the list with something like `for` in order to perform the same task on each list element. Use `str.split` to turn this string into an list where each element is something contained between the commas. Note that if you were to try to use `list()` to convert the string to a list, you would end up with commas as additional list elements.\n",
    "<p>&nbsp;</p>"
   ]
  },
  {
   "cell_type": "code",
   "execution_count": 27,
   "id": "e8225a86",
   "metadata": {},
   "outputs": [
    {
     "name": "stdout",
     "output_type": "stream",
     "text": [
      "DNA_Seq:\n",
      "A,C,G,T,A,A,A,T,G,C,C,A,T,G,C,C,G,G,A,A,T,C,G,A,T,T,T\n",
      "\n",
      "List of Elements:\n",
      "['A', 'C', 'G', 'T', 'A', 'A', 'A', 'T', 'G', 'C', 'C', 'A', 'T', 'G', 'C', 'C', 'G', 'G', 'A', 'A', 'T', 'C', 'G', 'A', 'T', 'T', 'T']\n"
     ]
    }
   ],
   "source": [
    "# DNA sequence string\n",
    "DNA_Seq = 'A,C,G,T,A,A,A,T,G,C,C,A,T,G,C,C,G,G,A,A,T,C,G,A,T,T,T'\n",
    "\n",
    "# Split the string into a list using a comma as the delimiter\n",
    "seq_list = DNA_Seq.split(',')\n",
    "\n",
    "# Print the original DNA sequence\n",
    "print(\"DNA_Seq:\")\n",
    "print(DNA_Seq)\n",
    "\n",
    "# Print the list of elements\n",
    "print(\"\\nList of Elements:\")\n",
    "print(seq_list)"
   ]
  },
  {
   "cell_type": "markdown",
   "id": "3cc50930",
   "metadata": {},
   "source": [
    "B. Note that `.join` is the opposite of `str.split`, and can be used to turn an list back into a string. The syntax is a bit different for `.join`, where the delimiter must be specified before the `.`. This is a task you might routinely encounter. Use `.join` to turn the list you made above back into a comma delimited string.\n",
    "<p>&nbsp;</p>"
   ]
  },
  {
   "cell_type": "code",
   "execution_count": 28,
   "id": "3592692c",
   "metadata": {},
   "outputs": [
    {
     "name": "stdout",
     "output_type": "stream",
     "text": [
      "\n",
      "Sequence list back to string:\n",
      "A,C,G,T,A,A,A,T,G,C,C,A,T,G,C,C,G,G,A,A,T,C,G,A,T,T,T\n"
     ]
    }
   ],
   "source": [
    "# DNA sequence string using .join\n",
    "seq_string = \",\".join(seq_list)\n",
    "\n",
    "# Print new string\n",
    "print(\"\\nSequence list back to string:\")\n",
    "print(seq_string)"
   ]
  },
  {
   "cell_type": "markdown",
   "id": "a6333ef0",
   "metadata": {},
   "source": [
    "C. Lets go back to the list you made in A. Add the an additional list, specified below, to the end of the first list (essentially, concatenate the two DNA sequences together.\n",
    "\n",
    "    SeqList2 = ['A','T','A','T','A','T','A','T','A','T','A','T','A','T','A','T','A','T','A','T','A','T']\n"
   ]
  },
  {
   "cell_type": "code",
   "execution_count": 8,
   "id": "4be4f851",
   "metadata": {},
   "outputs": [
    {
     "name": "stdout",
     "output_type": "stream",
     "text": [
      "New Sequence ['A', 'C', 'G', 'T', 'A', 'A', 'A', 'T', 'G', 'C', 'C', 'A', 'T', 'G', 'C', 'C', 'G', 'G', 'A', 'A', 'T', 'C', 'G', 'A', 'T', 'T', 'T', 'A', 'T', 'A', 'T', 'A', 'T', 'A', 'T', 'A', 'T', 'A', 'T', 'A', 'T', 'A', 'T', 'A', 'T', 'A', 'T', 'A', 'T']\n"
     ]
    }
   ],
   "source": [
    "SeqList2 = ['A','T','A','T','A','T','A','T','A','T','A','T','A','T','A','T','A','T','A','T','A','T']\n",
    "new_seq = seq_list + SeqList2\n",
    "\n",
    "print(\"New Sequence\", new_seq)"
   ]
  },
  {
   "cell_type": "markdown",
   "id": "f145177b",
   "metadata": {},
   "source": [
    "D. Make a new list that only contains the first 10 bases of the list you made in C.\n",
    "<p>&nbsp;</p>"
   ]
  },
  {
   "cell_type": "code",
   "execution_count": 25,
   "id": "f876e849",
   "metadata": {},
   "outputs": [
    {
     "name": "stdout",
     "output_type": "stream",
     "text": [
      "First 10 Bases:\n",
      "['A', 'C', 'G', 'T', 'A', 'A', 'A', 'T', 'G', 'C']\n"
     ]
    }
   ],
   "source": [
    "# Create a new list containing the first 10 bases\n",
    "first_10_bases = new_seq[:10]\n",
    "\n",
    "# Print the new list\n",
    "print(\"First 10 Bases:\")\n",
    "print(first_10_bases)\n"
   ]
  },
  {
   "cell_type": "markdown",
   "id": "cdce5cf9",
   "metadata": {},
   "source": [
    "E. How long is the list now? Print the length of the list, but use an `if` statement to do this only if the length is greater than 8. Then try to double the 8 to 16, to verify that you can write `if` and `else` conditionals that are doing what you want.\n",
    "<p>&nbsp;</p>"
   ]
  },
  {
   "cell_type": "code",
   "execution_count": 23,
   "id": "9ec576bd",
   "metadata": {},
   "outputs": [
    {
     "name": "stdout",
     "output_type": "stream",
     "text": [
      "The length of the list is greater than 8.\n",
      "Value: 16\n"
     ]
    }
   ],
   "source": [
    "# Check the length of the list and print it if it's greater than 8\n",
    "if len(first_10_bases) > 8:\n",
    "    print(\"The length of the list is greater than 8.\")\n",
    "    # Double the value 8 to 16\n",
    "    value = 16\n",
    "else:\n",
    "    print(\"The length of the list is not greater than 8.\")\n",
    "    # Leave the value as 8\n",
    "\n",
    "# Print the value (either 8 or 16)\n",
    "print(\"Value:\", value)\n"
   ]
  },
  {
   "cell_type": "markdown",
   "id": "9581d614",
   "metadata": {},
   "source": [
    "F. Print the final list in reverse order.  \n",
    "<p>&nbsp;</p>"
   ]
  },
  {
   "cell_type": "code",
   "execution_count": 24,
   "id": "8f22c095",
   "metadata": {},
   "outputs": [
    {
     "name": "stdout",
     "output_type": "stream",
     "text": [
      "['A', 'C', 'G', 'T', 'A', 'A', 'A', 'T', 'G', 'C']\n"
     ]
    }
   ],
   "source": [
    "first_10_bases.reverse()\n",
    "print(first_10_bases)"
   ]
  },
  {
   "cell_type": "markdown",
   "id": "96860170",
   "metadata": {},
   "source": [
    "## 3. Lets try something else with lists, `for`, and some conditional statements.\n",
    "<p>&nbsp;</p>\n",
    "   \n",
    "A. Make a list simple list of integers, starting with 1 and going to 100"
   ]
  },
  {
   "cell_type": "code",
   "execution_count": 17,
   "id": "e8aed576",
   "metadata": {},
   "outputs": [
    {
     "name": "stdout",
     "output_type": "stream",
     "text": [
      "[1, 2, 3, 4, 5, 6, 7, 8, 9, 10, 11, 12, 13, 14, 15, 16, 17, 18, 19, 20, 21, 22, 23, 24, 25, 26, 27, 28, 29, 30, 31, 32, 33, 34, 35, 36, 37, 38, 39, 40, 41, 42, 43, 44, 45, 46, 47, 48, 49, 50, 51, 52, 53, 54, 55, 56, 57, 58, 59, 60, 61, 62, 63, 64, 65, 66, 67, 68, 69, 70, 71, 72, 73, 74, 75, 76, 77, 78, 79, 80, 81, 82, 83, 84, 85, 86, 87, 88, 89, 90, 91, 92, 93, 94, 95, 96, 97, 98, 99, 100]\n"
     ]
    }
   ],
   "source": [
    "NumList=list(range(1,101))\n",
    "print(NumList)"
   ]
  },
  {
   "cell_type": "markdown",
   "id": "5ba99caa",
   "metadata": {},
   "source": [
    "B. Using a `for` loop, print each value, a comma, the value multiplied by 2, a comma, the element that value occupies in the list, a comma, and whether the original number is even or odd. Each line of output should look like (for the first element, 1):\n",
    "\n",
    "## 1, 2, 0, odd\n",
    "<p>&nbsp;</p>\n",
    "\n",
    "Hints: \n",
    "\n",
    "\t \n",
    "- You will want to increment a variable each time through the loop to record array index. See the last section of the primer for this week for an example. This is done using something like `CTR+=1` So, each time through `for` the value of CTR will grow by one. By initializing `CTR=0` outside the loop, and incrementing it inside the loop, you can correctly associate each run through the list with the correct list index (e.g., the first time through the list ).\n",
    "\n",
    "- The modulo operator `%` returns the remainder of division. You can use this to mathematically test whether a value is even or odd. You can use this in with `if` to determine if a value is even or odd. For example:\n",
    "\n",
    "    > 4%2 will return 0\n",
    "\n",
    "    > 4%3 will return 1\n",
    "\n",
    "\n",
    "<p>&nbsp;</p>\n",
    "\n",
    "C. When we are printing straight to the screen, we refer to this is standard out. Often you will want that information, especially when there is a lot of it, written to a file instead. Rather than printing this output to the screen, use unix redirection (like you did before we started perl) to write the output to a file."
   ]
  },
  {
   "cell_type": "code",
   "execution_count": 35,
   "id": "02941dc5",
   "metadata": {},
   "outputs": [
    {
     "name": "stdout",
     "output_type": "stream",
     "text": [
      "Value: 1, Value * 2: 2, list position: 0, Type: odd\n",
      "Value: 2, Value * 2: 4, list position: 1, Type: even\n",
      "Value: 3, Value * 2: 6, list position: 2, Type: odd\n",
      "Value: 4, Value * 2: 8, list position: 3, Type: even\n",
      "Value: 5, Value * 2: 10, list position: 4, Type: odd\n",
      "Value: 6, Value * 2: 12, list position: 5, Type: even\n",
      "Value: 7, Value * 2: 14, list position: 6, Type: odd\n",
      "Value: 8, Value * 2: 16, list position: 7, Type: even\n",
      "Value: 9, Value * 2: 18, list position: 8, Type: odd\n",
      "Value: 10, Value * 2: 20, list position: 9, Type: even\n",
      "Value: 11, Value * 2: 22, list position: 10, Type: odd\n",
      "Value: 12, Value * 2: 24, list position: 11, Type: even\n",
      "Value: 13, Value * 2: 26, list position: 12, Type: odd\n",
      "Value: 14, Value * 2: 28, list position: 13, Type: even\n",
      "Value: 15, Value * 2: 30, list position: 14, Type: odd\n",
      "Value: 16, Value * 2: 32, list position: 15, Type: even\n",
      "Value: 17, Value * 2: 34, list position: 16, Type: odd\n",
      "Value: 18, Value * 2: 36, list position: 17, Type: even\n",
      "Value: 19, Value * 2: 38, list position: 18, Type: odd\n",
      "Value: 20, Value * 2: 40, list position: 19, Type: even\n",
      "Value: 21, Value * 2: 42, list position: 20, Type: odd\n",
      "Value: 22, Value * 2: 44, list position: 21, Type: even\n",
      "Value: 23, Value * 2: 46, list position: 22, Type: odd\n",
      "Value: 24, Value * 2: 48, list position: 23, Type: even\n",
      "Value: 25, Value * 2: 50, list position: 24, Type: odd\n",
      "Value: 26, Value * 2: 52, list position: 25, Type: even\n",
      "Value: 27, Value * 2: 54, list position: 26, Type: odd\n",
      "Value: 28, Value * 2: 56, list position: 27, Type: even\n",
      "Value: 29, Value * 2: 58, list position: 28, Type: odd\n",
      "Value: 30, Value * 2: 60, list position: 29, Type: even\n",
      "Value: 31, Value * 2: 62, list position: 30, Type: odd\n",
      "Value: 32, Value * 2: 64, list position: 31, Type: even\n",
      "Value: 33, Value * 2: 66, list position: 32, Type: odd\n",
      "Value: 34, Value * 2: 68, list position: 33, Type: even\n",
      "Value: 35, Value * 2: 70, list position: 34, Type: odd\n",
      "Value: 36, Value * 2: 72, list position: 35, Type: even\n",
      "Value: 37, Value * 2: 74, list position: 36, Type: odd\n",
      "Value: 38, Value * 2: 76, list position: 37, Type: even\n",
      "Value: 39, Value * 2: 78, list position: 38, Type: odd\n",
      "Value: 40, Value * 2: 80, list position: 39, Type: even\n",
      "Value: 41, Value * 2: 82, list position: 40, Type: odd\n",
      "Value: 42, Value * 2: 84, list position: 41, Type: even\n",
      "Value: 43, Value * 2: 86, list position: 42, Type: odd\n",
      "Value: 44, Value * 2: 88, list position: 43, Type: even\n",
      "Value: 45, Value * 2: 90, list position: 44, Type: odd\n",
      "Value: 46, Value * 2: 92, list position: 45, Type: even\n",
      "Value: 47, Value * 2: 94, list position: 46, Type: odd\n",
      "Value: 48, Value * 2: 96, list position: 47, Type: even\n",
      "Value: 49, Value * 2: 98, list position: 48, Type: odd\n",
      "Value: 50, Value * 2: 100, list position: 49, Type: even\n",
      "Value: 51, Value * 2: 102, list position: 50, Type: odd\n",
      "Value: 52, Value * 2: 104, list position: 51, Type: even\n",
      "Value: 53, Value * 2: 106, list position: 52, Type: odd\n",
      "Value: 54, Value * 2: 108, list position: 53, Type: even\n",
      "Value: 55, Value * 2: 110, list position: 54, Type: odd\n",
      "Value: 56, Value * 2: 112, list position: 55, Type: even\n",
      "Value: 57, Value * 2: 114, list position: 56, Type: odd\n",
      "Value: 58, Value * 2: 116, list position: 57, Type: even\n",
      "Value: 59, Value * 2: 118, list position: 58, Type: odd\n",
      "Value: 60, Value * 2: 120, list position: 59, Type: even\n",
      "Value: 61, Value * 2: 122, list position: 60, Type: odd\n",
      "Value: 62, Value * 2: 124, list position: 61, Type: even\n",
      "Value: 63, Value * 2: 126, list position: 62, Type: odd\n",
      "Value: 64, Value * 2: 128, list position: 63, Type: even\n",
      "Value: 65, Value * 2: 130, list position: 64, Type: odd\n",
      "Value: 66, Value * 2: 132, list position: 65, Type: even\n",
      "Value: 67, Value * 2: 134, list position: 66, Type: odd\n",
      "Value: 68, Value * 2: 136, list position: 67, Type: even\n",
      "Value: 69, Value * 2: 138, list position: 68, Type: odd\n",
      "Value: 70, Value * 2: 140, list position: 69, Type: even\n",
      "Value: 71, Value * 2: 142, list position: 70, Type: odd\n",
      "Value: 72, Value * 2: 144, list position: 71, Type: even\n",
      "Value: 73, Value * 2: 146, list position: 72, Type: odd\n",
      "Value: 74, Value * 2: 148, list position: 73, Type: even\n",
      "Value: 75, Value * 2: 150, list position: 74, Type: odd\n",
      "Value: 76, Value * 2: 152, list position: 75, Type: even\n",
      "Value: 77, Value * 2: 154, list position: 76, Type: odd\n",
      "Value: 78, Value * 2: 156, list position: 77, Type: even\n",
      "Value: 79, Value * 2: 158, list position: 78, Type: odd\n",
      "Value: 80, Value * 2: 160, list position: 79, Type: even\n",
      "Value: 81, Value * 2: 162, list position: 80, Type: odd\n",
      "Value: 82, Value * 2: 164, list position: 81, Type: even\n",
      "Value: 83, Value * 2: 166, list position: 82, Type: odd\n",
      "Value: 84, Value * 2: 168, list position: 83, Type: even\n",
      "Value: 85, Value * 2: 170, list position: 84, Type: odd\n",
      "Value: 86, Value * 2: 172, list position: 85, Type: even\n",
      "Value: 87, Value * 2: 174, list position: 86, Type: odd\n",
      "Value: 88, Value * 2: 176, list position: 87, Type: even\n",
      "Value: 89, Value * 2: 178, list position: 88, Type: odd\n",
      "Value: 90, Value * 2: 180, list position: 89, Type: even\n",
      "Value: 91, Value * 2: 182, list position: 90, Type: odd\n",
      "Value: 92, Value * 2: 184, list position: 91, Type: even\n",
      "Value: 93, Value * 2: 186, list position: 92, Type: odd\n",
      "Value: 94, Value * 2: 188, list position: 93, Type: even\n",
      "Value: 95, Value * 2: 190, list position: 94, Type: odd\n",
      "Value: 96, Value * 2: 192, list position: 95, Type: even\n",
      "Value: 97, Value * 2: 194, list position: 96, Type: odd\n",
      "Value: 98, Value * 2: 196, list position: 97, Type: even\n",
      "Value: 99, Value * 2: 198, list position: 98, Type: odd\n",
      "Value: 100, Value * 2: 200, list position: 99, Type: even\n"
     ]
    }
   ],
   "source": [
    "# Create a list of integers from 1 to 100\n",
    "NumList = list(range(1, 101))\n",
    "\n",
    "ctr = 0\n",
    "\n",
    "for Num in NumList:\n",
    "    if Num % 2 == 0:\n",
    "        Type = \"even\"\n",
    "    else:\n",
    "        Type = \"odd\"\n",
    "    Num_2 = Num * 2\n",
    "\n",
    "    print(\"Value: %d, Value * 2: %d, list position: %d, Type: %s\" % (Num, Num_2, ctr, Type))\n",
    "    ctr += 1  # Increment the counter for list position\n"
   ]
  },
  {
   "cell_type": "code",
   "execution_count": null,
   "id": "07628a10",
   "metadata": {},
   "outputs": [],
   "source": []
  }
 ],
 "metadata": {
  "kernelspec": {
   "display_name": "Python 3 (ipykernel)",
   "language": "python",
   "name": "python3"
  },
  "language_info": {
   "codemirror_mode": {
    "name": "ipython",
    "version": 3
   },
   "file_extension": ".py",
   "mimetype": "text/x-python",
   "name": "python",
   "nbconvert_exporter": "python",
   "pygments_lexer": "ipython3",
   "version": "3.11.4"
  }
 },
 "nbformat": 4,
 "nbformat_minor": 5
}
