{
 "cells": [
  {
   "cell_type": "markdown",
   "metadata": {},
   "source": [
    "# Assignment 6 - pandas (Jeshurun Biney)  \n",
    "### due 3/14/2022   \n",
    "\n",
    "Use this notebook and prompts to complete the homework. Throughout there will be hints and some code provided  \n",
    "\n",
    "### Things you will need:  \n",
    "- Install os, NumPy, pandas  \n",
    "- states_covid.csv  \n",
    "- Bloom_etal_2018_Reduced_Dataset.csv  \n",
    "- logfiles.tgz (or some other multiple file dataset)  \n",
    "\n",
    "*NOTE*: Make sure your PATH is correct  \n",
    "\n",
    "**import packages & check required datasets**   "
   ]
  },
  {
   "cell_type": "code",
   "execution_count": 48,
   "metadata": {},
   "outputs": [],
   "source": [
    "import os\n",
    "import numpy as np\n",
    "import pandas as pd"
   ]
  },
  {
   "cell_type": "code",
   "execution_count": 49,
   "metadata": {},
   "outputs": [],
   "source": [
    "PATH = '/Users/jeshurunbiney/BIOL792/week12_python7_pandas' #CHANGE"
   ]
  },
  {
   "cell_type": "code",
   "execution_count": 50,
   "metadata": {},
   "outputs": [],
   "source": [
    "assert os.path.exists(os.path.join(PATH,'states_covid.csv')), 'states_covid.csv does not exist' "
   ]
  },
  {
   "cell_type": "code",
   "execution_count": 51,
   "metadata": {},
   "outputs": [],
   "source": [
    "assert os.path.exists(os.path.join(PATH,'Bloom_etal_2018_Reduced_Dataset.csv')), 'Bloom_etal_2018_Reduced_Dataset.csv does not exist'"
   ]
  },
  {
   "cell_type": "code",
   "execution_count": 52,
   "metadata": {},
   "outputs": [
    {
     "name": "stdout",
     "output_type": "stream",
     "text": [
      "/Users/jeshurunbiney/BIOL792/week12_python7_pandas\r\n"
     ]
    }
   ],
   "source": [
    "#checking my current working directory\n",
    "!cd $PATH\n",
    "!echo \"$PATH\""
   ]
  },
  {
   "cell_type": "code",
   "execution_count": 53,
   "metadata": {},
   "outputs": [
    {
     "name": "stdout",
     "output_type": "stream",
     "text": [
      "/Users/jeshurunbiney/BIOL792/week12_python7_pandas\n"
     ]
    }
   ],
   "source": [
    "cd $PATH "
   ]
  },
  {
   "cell_type": "markdown",
   "metadata": {},
   "source": [
    "## Task 1 - DataFrame manipulation  \n",
    "\n",
    "Using **states_covid.csv**, we are going to read the data in as a DataFrame to manipulate, subset, and filter in various ways.   \n",
    "\n",
    "### Task 1.1 \n",
    "\n",
    "Read in states_covid.csv with date as a \"date\" dtype, and only columns consisting of the hospitalization (4 col), ICU (2 col), and Ventilators (2 col)  "
   ]
  },
  {
   "cell_type": "code",
   "execution_count": 54,
   "metadata": {},
   "outputs": [
    {
     "data": {
      "text/plain": [
       "Index(['date', 'state', 'death', 'deathConfirmed', 'deathIncrease',\n",
       "       'deathProbable', 'hospitalized', 'hospitalizedCumulative',\n",
       "       'hospitalizedCurrently', 'hospitalizedIncrease', 'inIcuCumulative',\n",
       "       'inIcuCurrently', 'negative', 'negativeIncrease',\n",
       "       'negativeTestsAntibody', 'negativeTestsPeopleAntibody',\n",
       "       'negativeTestsViral', 'onVentilatorCumulative', 'onVentilatorCurrently',\n",
       "       'positive', 'positiveCasesViral', 'positiveIncrease', 'positiveScore',\n",
       "       'positiveTestsAntibody', 'positiveTestsAntigen',\n",
       "       'positiveTestsPeopleAntibody', 'positiveTestsPeopleAntigen',\n",
       "       'positiveTestsViral', 'recovered', 'totalTestEncountersViral',\n",
       "       'totalTestEncountersViralIncrease', 'totalTestResults',\n",
       "       'totalTestResultsIncrease', 'totalTestsAntibody', 'totalTestsAntigen',\n",
       "       'totalTestsPeopleAntibody', 'totalTestsPeopleAntigen',\n",
       "       'totalTestsPeopleViral', 'totalTestsPeopleViralIncrease',\n",
       "       'totalTestsViral', 'totalTestsViralIncrease'],\n",
       "      dtype='object')"
      ]
     },
     "execution_count": 54,
     "metadata": {},
     "output_type": "execute_result"
    }
   ],
   "source": [
    "state_covid_df = pd.read_csv('states_covid.csv')\n",
    "state_covid_df.columns #view the column names and find specified names"
   ]
  },
  {
   "cell_type": "code",
   "execution_count": 55,
   "metadata": {},
   "outputs": [
    {
     "data": {
      "text/html": [
       "<div>\n",
       "<style scoped>\n",
       "    .dataframe tbody tr th:only-of-type {\n",
       "        vertical-align: middle;\n",
       "    }\n",
       "\n",
       "    .dataframe tbody tr th {\n",
       "        vertical-align: top;\n",
       "    }\n",
       "\n",
       "    .dataframe thead th {\n",
       "        text-align: right;\n",
       "    }\n",
       "</style>\n",
       "<table border=\"1\" class=\"dataframe\">\n",
       "  <thead>\n",
       "    <tr style=\"text-align: right;\">\n",
       "      <th></th>\n",
       "      <th>date</th>\n",
       "      <th>hospitalized</th>\n",
       "      <th>hospitalizedCumulative</th>\n",
       "      <th>hospitalizedCurrently</th>\n",
       "      <th>hospitalizedIncrease</th>\n",
       "      <th>inIcuCumulative</th>\n",
       "      <th>inIcuCurrently</th>\n",
       "      <th>onVentilatorCumulative</th>\n",
       "      <th>onVentilatorCurrently</th>\n",
       "    </tr>\n",
       "  </thead>\n",
       "  <tbody>\n",
       "    <tr>\n",
       "      <th>0</th>\n",
       "      <td>2021-02-23</td>\n",
       "      <td>1260.0</td>\n",
       "      <td>1260.0</td>\n",
       "      <td>38.0</td>\n",
       "      <td>9</td>\n",
       "      <td>NaN</td>\n",
       "      <td>NaN</td>\n",
       "      <td>NaN</td>\n",
       "      <td>5.0</td>\n",
       "    </tr>\n",
       "    <tr>\n",
       "      <th>1</th>\n",
       "      <td>2021-02-23</td>\n",
       "      <td>45250.0</td>\n",
       "      <td>45250.0</td>\n",
       "      <td>762.0</td>\n",
       "      <td>122</td>\n",
       "      <td>2632.0</td>\n",
       "      <td>NaN</td>\n",
       "      <td>1497.0</td>\n",
       "      <td>NaN</td>\n",
       "    </tr>\n",
       "    <tr>\n",
       "      <th>2</th>\n",
       "      <td>2021-02-23</td>\n",
       "      <td>14617.0</td>\n",
       "      <td>14617.0</td>\n",
       "      <td>545.0</td>\n",
       "      <td>47</td>\n",
       "      <td>NaN</td>\n",
       "      <td>204.0</td>\n",
       "      <td>1505.0</td>\n",
       "      <td>99.0</td>\n",
       "    </tr>\n",
       "    <tr>\n",
       "      <th>3</th>\n",
       "      <td>2021-02-23</td>\n",
       "      <td>NaN</td>\n",
       "      <td>NaN</td>\n",
       "      <td>NaN</td>\n",
       "      <td>0</td>\n",
       "      <td>NaN</td>\n",
       "      <td>NaN</td>\n",
       "      <td>NaN</td>\n",
       "      <td>NaN</td>\n",
       "    </tr>\n",
       "    <tr>\n",
       "      <th>4</th>\n",
       "      <td>2021-02-23</td>\n",
       "      <td>57072.0</td>\n",
       "      <td>57072.0</td>\n",
       "      <td>1515.0</td>\n",
       "      <td>78</td>\n",
       "      <td>NaN</td>\n",
       "      <td>447.0</td>\n",
       "      <td>NaN</td>\n",
       "      <td>266.0</td>\n",
       "    </tr>\n",
       "  </tbody>\n",
       "</table>\n",
       "</div>"
      ],
      "text/plain": [
       "        date  hospitalized  hospitalizedCumulative  hospitalizedCurrently  \\\n",
       "0 2021-02-23        1260.0                  1260.0                   38.0   \n",
       "1 2021-02-23       45250.0                 45250.0                  762.0   \n",
       "2 2021-02-23       14617.0                 14617.0                  545.0   \n",
       "3 2021-02-23           NaN                     NaN                    NaN   \n",
       "4 2021-02-23       57072.0                 57072.0                 1515.0   \n",
       "\n",
       "   hospitalizedIncrease  inIcuCumulative  inIcuCurrently  \\\n",
       "0                     9              NaN             NaN   \n",
       "1                   122           2632.0             NaN   \n",
       "2                    47              NaN           204.0   \n",
       "3                     0              NaN             NaN   \n",
       "4                    78              NaN           447.0   \n",
       "\n",
       "   onVentilatorCumulative  onVentilatorCurrently  \n",
       "0                     NaN                    5.0  \n",
       "1                  1497.0                    NaN  \n",
       "2                  1505.0                   99.0  \n",
       "3                     NaN                    NaN  \n",
       "4                     NaN                  266.0  "
      ]
     },
     "execution_count": 55,
     "metadata": {},
     "output_type": "execute_result"
    }
   ],
   "source": [
    "state_covid_sub_df = pd.read_csv('states_covid.csv',usecols=['date','hospitalized', 'hospitalizedCumulative',\n",
    "       'hospitalizedCurrently', 'hospitalizedIncrease', 'inIcuCumulative','inIcuCurrently', 'onVentilatorCumulative', 'onVentilatorCurrently'],parse_dates=['date'],infer_datetime_format=True)\n",
    "state_covid_sub_df.head()"
   ]
  },
  {
   "cell_type": "code",
   "execution_count": 56,
   "metadata": {},
   "outputs": [
    {
     "data": {
      "text/plain": [
       "date                      datetime64[ns]\n",
       "hospitalized                     float64\n",
       "hospitalizedCumulative           float64\n",
       "hospitalizedCurrently            float64\n",
       "hospitalizedIncrease               int64\n",
       "inIcuCumulative                  float64\n",
       "inIcuCurrently                   float64\n",
       "onVentilatorCumulative           float64\n",
       "onVentilatorCurrently            float64\n",
       "dtype: object"
      ]
     },
     "execution_count": 56,
     "metadata": {},
     "output_type": "execute_result"
    }
   ],
   "source": [
    "state_covid_sub_df.dtypes"
   ]
  },
  {
   "cell_type": "markdown",
   "metadata": {},
   "source": [
    "### Task 1.2 \n",
    "\n",
    "For each of the following catergories: *currently* hospitalized, *currently* in the ICU, and *currently* on ventilation...  \n",
    "Find the 5 states with the greatest numbers in each catergory and list them in order.      \n",
    "*hint*: sort_values, unique  "
   ]
  },
  {
   "cell_type": "code",
   "execution_count": 57,
   "metadata": {},
   "outputs": [],
   "source": [
    "# print (state_covid_sub_df)"
   ]
  },
  {
   "cell_type": "code",
   "execution_count": 58,
   "metadata": {},
   "outputs": [
    {
     "name": "stdout",
     "output_type": "stream",
     "text": [
      "Top 5 states with the greatest number of currently hospitalized patients:\n",
      "state\n",
      "CA    22851.0\n",
      "NY    18825.0\n",
      "TX    14218.0\n",
      "FL     9520.0\n",
      "NJ     8270.0\n",
      "Name: hospitalizedCurrently, dtype: float64\n",
      "Top 5 states with the greatest number of currently in the ICU patients:\n",
      "state\n",
      "NY    5225.0\n",
      "CA    4971.0\n",
      "TX    3686.0\n",
      "NJ    2051.0\n",
      "MI    1663.0\n",
      "Name: inIcuCurrently, dtype: float64\n",
      "Top 5 states with the greatest number of currently on ventilation patients:\n",
      "state\n",
      "NY    2425.0\n",
      "NJ    1705.0\n",
      "MI    1441.0\n",
      "OH     863.0\n",
      "AZ     821.0\n",
      "Name: onVentilatorCurrently, dtype: float64\n"
     ]
    }
   ],
   "source": [
    "\n",
    "df = pd.read_csv('states_covid.csv', parse_dates=['date'], usecols=['date', 'state', 'hospitalizedCurrently', 'hospitalizedCumulative', 'inIcuCurrently', 'inIcuCumulative', 'onVentilatorCurrently', 'onVentilatorCumulative'])\n",
    "\n",
    "# Find the 5 states with the greatest number of currently hospitalized patients\n",
    "currently_hospitalized = df.groupby('state')['hospitalizedCurrently'].max().sort_values(ascending=False)\n",
    "top_hospitalized = currently_hospitalized.head(5)\n",
    "print(\"Top 5 states with the greatest number of currently hospitalized patients:\")\n",
    "print(top_hospitalized)\n",
    "\n",
    "# Find the 5 states with the greatest number of currently in the ICU patients\n",
    "currently_icu = df.groupby('state')['inIcuCurrently'].max().sort_values(ascending=False)\n",
    "top_icu = currently_icu.head(5)\n",
    "print(\"Top 5 states with the greatest number of currently in the ICU patients:\")\n",
    "print(top_icu)\n",
    "\n",
    "# Find the 5 states with the greatest number of currently on ventilation patients\n",
    "currently_ventilator = df.groupby('state')['onVentilatorCurrently'].max().sort_values(ascending=False)\n",
    "top_ventilator = currently_ventilator.head(5)\n",
    "print(\"Top 5 states with the greatest number of currently on ventilation patients:\")\n",
    "print(top_ventilator)"
   ]
  },
  {
   "cell_type": "code",
   "execution_count": 59,
   "metadata": {},
   "outputs": [
    {
     "data": {
      "text/html": [
       "<div>\n",
       "<style scoped>\n",
       "    .dataframe tbody tr th:only-of-type {\n",
       "        vertical-align: middle;\n",
       "    }\n",
       "\n",
       "    .dataframe tbody tr th {\n",
       "        vertical-align: top;\n",
       "    }\n",
       "\n",
       "    .dataframe thead th {\n",
       "        text-align: right;\n",
       "    }\n",
       "</style>\n",
       "<table border=\"1\" class=\"dataframe\">\n",
       "  <thead>\n",
       "    <tr style=\"text-align: right;\">\n",
       "      <th></th>\n",
       "      <th>date</th>\n",
       "      <th>state</th>\n",
       "      <th>death</th>\n",
       "      <th>deathConfirmed</th>\n",
       "      <th>deathIncrease</th>\n",
       "      <th>deathProbable</th>\n",
       "      <th>hospitalized</th>\n",
       "      <th>hospitalizedCumulative</th>\n",
       "      <th>hospitalizedCurrently</th>\n",
       "      <th>hospitalizedIncrease</th>\n",
       "      <th>...</th>\n",
       "      <th>totalTestResults</th>\n",
       "      <th>totalTestResultsIncrease</th>\n",
       "      <th>totalTestsAntibody</th>\n",
       "      <th>totalTestsAntigen</th>\n",
       "      <th>totalTestsPeopleAntibody</th>\n",
       "      <th>totalTestsPeopleAntigen</th>\n",
       "      <th>totalTestsPeopleViral</th>\n",
       "      <th>totalTestsPeopleViralIncrease</th>\n",
       "      <th>totalTestsViral</th>\n",
       "      <th>totalTestsViralIncrease</th>\n",
       "    </tr>\n",
       "  </thead>\n",
       "  <tbody>\n",
       "    <tr>\n",
       "      <th>2637</th>\n",
       "      <td>2021-01-07</td>\n",
       "      <td>CA</td>\n",
       "      <td>28045.0</td>\n",
       "      <td>NaN</td>\n",
       "      <td>583</td>\n",
       "      <td>NaN</td>\n",
       "      <td>NaN</td>\n",
       "      <td>NaN</td>\n",
       "      <td>22851.0</td>\n",
       "      <td>0</td>\n",
       "      <td>...</td>\n",
       "      <td>34760355.0</td>\n",
       "      <td>211734</td>\n",
       "      <td>NaN</td>\n",
       "      <td>NaN</td>\n",
       "      <td>NaN</td>\n",
       "      <td>NaN</td>\n",
       "      <td>NaN</td>\n",
       "      <td>0</td>\n",
       "      <td>34760355.0</td>\n",
       "      <td>211734</td>\n",
       "    </tr>\n",
       "    <tr>\n",
       "      <th>2581</th>\n",
       "      <td>2021-01-08</td>\n",
       "      <td>CA</td>\n",
       "      <td>28538.0</td>\n",
       "      <td>NaN</td>\n",
       "      <td>493</td>\n",
       "      <td>NaN</td>\n",
       "      <td>NaN</td>\n",
       "      <td>NaN</td>\n",
       "      <td>22836.0</td>\n",
       "      <td>0</td>\n",
       "      <td>...</td>\n",
       "      <td>35027330.0</td>\n",
       "      <td>266975</td>\n",
       "      <td>NaN</td>\n",
       "      <td>NaN</td>\n",
       "      <td>NaN</td>\n",
       "      <td>NaN</td>\n",
       "      <td>NaN</td>\n",
       "      <td>0</td>\n",
       "      <td>35027330.0</td>\n",
       "      <td>266975</td>\n",
       "    </tr>\n",
       "    <tr>\n",
       "      <th>2693</th>\n",
       "      <td>2021-01-06</td>\n",
       "      <td>CA</td>\n",
       "      <td>27462.0</td>\n",
       "      <td>NaN</td>\n",
       "      <td>459</td>\n",
       "      <td>NaN</td>\n",
       "      <td>NaN</td>\n",
       "      <td>NaN</td>\n",
       "      <td>22820.0</td>\n",
       "      <td>0</td>\n",
       "      <td>...</td>\n",
       "      <td>34548621.0</td>\n",
       "      <td>217837</td>\n",
       "      <td>NaN</td>\n",
       "      <td>NaN</td>\n",
       "      <td>NaN</td>\n",
       "      <td>NaN</td>\n",
       "      <td>NaN</td>\n",
       "      <td>0</td>\n",
       "      <td>34548621.0</td>\n",
       "      <td>217837</td>\n",
       "    </tr>\n",
       "    <tr>\n",
       "      <th>2357</th>\n",
       "      <td>2021-01-12</td>\n",
       "      <td>CA</td>\n",
       "      <td>30513.0</td>\n",
       "      <td>NaN</td>\n",
       "      <td>548</td>\n",
       "      <td>NaN</td>\n",
       "      <td>NaN</td>\n",
       "      <td>NaN</td>\n",
       "      <td>22665.0</td>\n",
       "      <td>0</td>\n",
       "      <td>...</td>\n",
       "      <td>36508384.0</td>\n",
       "      <td>337856</td>\n",
       "      <td>NaN</td>\n",
       "      <td>NaN</td>\n",
       "      <td>NaN</td>\n",
       "      <td>NaN</td>\n",
       "      <td>NaN</td>\n",
       "      <td>0</td>\n",
       "      <td>36508384.0</td>\n",
       "      <td>337856</td>\n",
       "    </tr>\n",
       "    <tr>\n",
       "      <th>2413</th>\n",
       "      <td>2021-01-11</td>\n",
       "      <td>CA</td>\n",
       "      <td>29965.0</td>\n",
       "      <td>NaN</td>\n",
       "      <td>264</td>\n",
       "      <td>NaN</td>\n",
       "      <td>NaN</td>\n",
       "      <td>NaN</td>\n",
       "      <td>22633.0</td>\n",
       "      <td>0</td>\n",
       "      <td>...</td>\n",
       "      <td>36170528.0</td>\n",
       "      <td>343704</td>\n",
       "      <td>NaN</td>\n",
       "      <td>NaN</td>\n",
       "      <td>NaN</td>\n",
       "      <td>NaN</td>\n",
       "      <td>NaN</td>\n",
       "      <td>0</td>\n",
       "      <td>36170528.0</td>\n",
       "      <td>343704</td>\n",
       "    </tr>\n",
       "  </tbody>\n",
       "</table>\n",
       "<p>5 rows × 41 columns</p>\n",
       "</div>"
      ],
      "text/plain": [
       "            date state    death  deathConfirmed  deathIncrease  deathProbable  \\\n",
       "2637  2021-01-07    CA  28045.0             NaN            583            NaN   \n",
       "2581  2021-01-08    CA  28538.0             NaN            493            NaN   \n",
       "2693  2021-01-06    CA  27462.0             NaN            459            NaN   \n",
       "2357  2021-01-12    CA  30513.0             NaN            548            NaN   \n",
       "2413  2021-01-11    CA  29965.0             NaN            264            NaN   \n",
       "\n",
       "      hospitalized  hospitalizedCumulative  hospitalizedCurrently  \\\n",
       "2637           NaN                     NaN                22851.0   \n",
       "2581           NaN                     NaN                22836.0   \n",
       "2693           NaN                     NaN                22820.0   \n",
       "2357           NaN                     NaN                22665.0   \n",
       "2413           NaN                     NaN                22633.0   \n",
       "\n",
       "      hospitalizedIncrease  ...  totalTestResults  totalTestResultsIncrease  \\\n",
       "2637                     0  ...        34760355.0                    211734   \n",
       "2581                     0  ...        35027330.0                    266975   \n",
       "2693                     0  ...        34548621.0                    217837   \n",
       "2357                     0  ...        36508384.0                    337856   \n",
       "2413                     0  ...        36170528.0                    343704   \n",
       "\n",
       "      totalTestsAntibody  totalTestsAntigen  totalTestsPeopleAntibody  \\\n",
       "2637                 NaN                NaN                       NaN   \n",
       "2581                 NaN                NaN                       NaN   \n",
       "2693                 NaN                NaN                       NaN   \n",
       "2357                 NaN                NaN                       NaN   \n",
       "2413                 NaN                NaN                       NaN   \n",
       "\n",
       "      totalTestsPeopleAntigen  totalTestsPeopleViral  \\\n",
       "2637                      NaN                    NaN   \n",
       "2581                      NaN                    NaN   \n",
       "2693                      NaN                    NaN   \n",
       "2357                      NaN                    NaN   \n",
       "2413                      NaN                    NaN   \n",
       "\n",
       "      totalTestsPeopleViralIncrease  totalTestsViral  totalTestsViralIncrease  \n",
       "2637                              0       34760355.0                   211734  \n",
       "2581                              0       35027330.0                   266975  \n",
       "2693                              0       34548621.0                   217837  \n",
       "2357                              0       36508384.0                   337856  \n",
       "2413                              0       36170528.0                   343704  \n",
       "\n",
       "[5 rows x 41 columns]"
      ]
     },
     "execution_count": 59,
     "metadata": {},
     "output_type": "execute_result"
    }
   ],
   "source": [
    "new_state_covid_sub_df = pd.read_csv('states_covid.csv') \n",
    "\n",
    "new_state_covid_sub_df = new_state_covid_sub_df.sort_values('positive',ascending=False,inplace=False)\n",
    "new_state_covid_sub_df.sort_values('hospitalizedCurrently',ascending=False,inplace=True)\n",
    "new_state_covid_sub_df.head()"
   ]
  },
  {
   "cell_type": "markdown",
   "metadata": {},
   "source": [
    "### Task 1.3 \n",
    "\n",
    "Find the date in which each state crossed 1000 cumulative hospitilized covid patients"
   ]
  },
  {
   "cell_type": "code",
   "execution_count": 60,
   "metadata": {},
   "outputs": [
    {
     "name": "stdout",
     "output_type": "stream",
     "text": [
      "AK: 2021-02-23 00:00:00\n",
      "AL: 2021-02-23 00:00:00\n",
      "AR: 2021-02-23 00:00:00\n",
      "AS: 2021-02-23 00:00:00\n",
      "AZ: 2021-02-23 00:00:00\n",
      "CA: 2021-02-23 00:00:00\n",
      "CO: 2021-02-23 00:00:00\n",
      "CT: 2021-02-23 00:00:00\n",
      "DC: 2021-02-23 00:00:00\n",
      "DE: 2021-02-23 00:00:00\n",
      "FL: 2021-02-23 00:00:00\n",
      "GA: 2021-02-23 00:00:00\n",
      "GU: 2021-02-23 00:00:00\n",
      "HI: 2021-02-23 00:00:00\n",
      "IA: 2021-02-23 00:00:00\n",
      "ID: 2021-02-23 00:00:00\n",
      "IL: 2021-02-23 00:00:00\n",
      "IN: 2021-02-23 00:00:00\n",
      "KS: 2021-02-23 00:00:00\n",
      "KY: 2021-02-23 00:00:00\n",
      "LA: 2021-02-23 00:00:00\n",
      "MA: 2021-02-23 00:00:00\n",
      "MD: 2021-02-23 00:00:00\n",
      "ME: 2021-02-23 00:00:00\n",
      "MI: 2021-02-23 00:00:00\n",
      "MN: 2021-02-23 00:00:00\n",
      "MO: 2021-02-23 00:00:00\n",
      "MP: 2021-02-23 00:00:00\n",
      "MS: 2021-02-23 00:00:00\n",
      "MT: 2021-02-23 00:00:00\n",
      "NC: 2021-02-23 00:00:00\n",
      "ND: 2021-02-23 00:00:00\n",
      "NE: 2021-02-23 00:00:00\n",
      "NH: 2021-02-23 00:00:00\n",
      "NJ: 2021-02-23 00:00:00\n",
      "NM: 2021-02-23 00:00:00\n",
      "NV: 2021-02-23 00:00:00\n",
      "NY: 2021-02-23 00:00:00\n",
      "OH: 2021-02-23 00:00:00\n",
      "OK: 2021-02-23 00:00:00\n",
      "OR: 2021-02-23 00:00:00\n",
      "PA: 2020-04-06 00:00:00\n",
      "PR: 2021-02-23 00:00:00\n",
      "RI: 2021-02-23 00:00:00\n",
      "SC: 2021-02-23 00:00:00\n",
      "SD: 2021-02-23 00:00:00\n",
      "TN: 2021-02-23 00:00:00\n",
      "TX: 2021-02-23 00:00:00\n",
      "UT: 2021-02-23 00:00:00\n",
      "VA: 2021-02-23 00:00:00\n",
      "VI: 2021-02-23 00:00:00\n",
      "VT: 2021-02-23 00:00:00\n",
      "WA: 2021-02-23 00:00:00\n",
      "WI: 2021-02-23 00:00:00\n",
      "WV: 2021-02-23 00:00:00\n",
      "WY: 2021-02-23 00:00:00\n"
     ]
    }
   ],
   "source": [
    "#group by states using a for loop \n",
    "\n",
    "# Create a new DataFrame with only the necessary columns and group by state\n",
    "df_hospitalized_cumulative = df[['state', 'hospitalizedCumulative', 'date']].groupby('state')\n",
    "\n",
    "# Initialize an empty dictionary to store the results\n",
    "results = {}\n",
    "\n",
    "# Loop through each group and find the date of the first instance where the cumulative hospitalized count exceeds 1000\n",
    "for state, group in df_hospitalized_cumulative:\n",
    "    idx = (group['hospitalizedCumulative'] >= 1000).idxmax()  # find the index of the first instance where the cumulative count exceeds 1000\n",
    "    date = group.loc[idx, 'date']  # extract the date corresponding to the index\n",
    "    results[state] = date  # add the state and date to the results dictionary\n",
    "\n",
    "# Print the results\n",
    "for state, date in results.items():\n",
    "    print(f\"{state}: {date}\")"
   ]
  },
  {
   "cell_type": "markdown",
   "metadata": {},
   "source": [
    "## Task 2 - DataFrame summarizing  \n",
    "\n",
    "Using **Bloom_etal_2018_Reduced_Dataset.csv**, we are going to do more dataframe manipulation and subsetting and summarizing    \n",
    "\n",
    "### Task 2.1 \n",
    "\n",
    "Read in Bloom_etal_2018_Reduced_Dataset.csv and create two new columns ('genus','species') that consists of the column *taxa* split at the underscore. Print out the head of this new dataframe and the number of unique genera**     \n",
    "\n",
    "*hint:* pd.str.split(,expand=True)  \n",
    "\n",
    "for example:  \n",
    "\n",
    "| taxa | genus | species   \n",
    "| :------ | :-- | :---   \n",
    "| Alosa_alabamae | Alosa | alabamae  "
   ]
  },
  {
   "cell_type": "code",
   "execution_count": 61,
   "metadata": {},
   "outputs": [
    {
     "name": "stdout",
     "output_type": "stream",
     "text": [
      "                   taxa  genus         species\n",
      "0        Alosa_alabamae  Alosa        alabamae\n",
      "1           Alosa_alosa  Alosa           alosa\n",
      "2          Alosa_fallax  Alosa          fallax\n",
      "3       Alosa_mediocris  Alosa       mediocris\n",
      "4  Alosa_pseudoharengus  Alosa  pseudoharengus\n",
      "Number of unique genera: 34\n"
     ]
    }
   ],
   "source": [
    "# Read in the CSV file\n",
    "df = pd.read_csv('Bloom_etal_2018_Reduced_Dataset.csv')\n",
    "\n",
    "# Split the 'taxa' column into two new columns: 'genus' and 'species'\n",
    "df[['genus', 'species']] = df['taxa'].str.split('_', n=1, expand=True)\n",
    "\n",
    "# Print out the head of the new dataframe with the taxa, genus, and species columns\n",
    "print(df[['taxa', 'genus', 'species']].head())\n",
    "\n",
    "# Print out the number of unique genera\n",
    "print(\"Number of unique genera:\", df['genus'].nunique())"
   ]
  },
  {
   "cell_type": "markdown",
   "metadata": {},
   "source": [
    "### Task 2.2 \n",
    "\n",
    "Create a new dataframe with the mean *logbodysize* and *trophicposition* of each genera. Sort this data frame by the largest body size. Print the head of this dataframe."
   ]
  },
  {
   "cell_type": "code",
   "execution_count": 62,
   "metadata": {},
   "outputs": [
    {
     "data": {
      "text/plain": [
       "Index(['taxa', 'logbodysize', 'trophic_position', 'Reg'], dtype='object')"
      ]
     },
     "execution_count": 62,
     "metadata": {},
     "output_type": "execute_result"
    }
   ],
   "source": [
    "# Read in the CSV file\n",
    "new_df = pd.read_csv('Bloom_etal_2018_Reduced_Dataset.csv')\n",
    "\n",
    "#I was getting errors so I had to find the name of the columns since trophicposition in the data was underscored\n",
    "new_df.columns\n",
    "\n"
   ]
  },
  {
   "cell_type": "code",
   "execution_count": 63,
   "metadata": {},
   "outputs": [
    {
     "name": "stdout",
     "output_type": "stream",
     "text": [
      "                logbodysize  trophic_position\n",
      "genus                                        \n",
      "Tenualosa          1.778151          0.462398\n",
      "Alosa              1.739062          0.540815\n",
      "Coilia             1.544068          0.477121\n",
      "Ethmalosa          1.544068          0.397940\n",
      "Potamalosa         1.505150          0.518514\n",
      "Hilsa              1.387390          0.462398\n",
      "Anodontostoma      1.342423          0.447158\n",
      "Engraulis          1.190332          0.462398\n",
      "Cetengraulis       1.113943          0.322219\n",
      "Pellona            1.113943          0.623249\n",
      "Anchovia           1.093422          0.477121\n",
      "Thryssa            1.041393          0.447158\n",
      "Pellonula          1.004300          0.504938\n",
      "Escualosa          1.000000          0.505150\n",
      "Gilchristella      1.000000          0.491362\n",
      "Stolothrissa       1.000000          0.431364\n",
      "Hyperlophus        1.000000          0.531479\n",
      "Stolephorus        0.973128          0.518514\n",
      "Chirocentrodon     0.954243          0.518514\n",
      "Encrasicholina     0.903090          0.518514\n",
      "Clupeoides         0.903090          0.491362\n",
      "Ramnogaster        0.903090          0.531479\n",
      "Rhinosardinia      0.903090          0.531479\n",
      "Spratelloides      0.845098          0.491362\n",
      "Anchoa             0.843681          0.522218\n",
      "Jenkinsia          0.838849          0.518514\n",
      "Microthrissa       0.778151          0.491362\n",
      "Anchoviella        0.775207          0.496877\n",
      "Ehirava            0.698970          0.491362\n",
      "Sauvagella         0.672098          0.491362\n",
      "Clupeichthys       0.602060          0.477121\n",
      "Sierrathrissa      0.477121          0.491362\n",
      "Sundasalanx        0.447158          0.491362\n",
      "Amazonsprattus     0.301030          0.531479\n"
     ]
    }
   ],
   "source": [
    "# Read in the CSV file\n",
    "new_df = pd.read_csv('Bloom_etal_2018_Reduced_Dataset.csv')\n",
    "\n",
    "# Split the 'taxa' column into two new columns: 'genus' and 'species'\n",
    "new_df[['genus', 'species']] = new_df['taxa'].str.split('_', n=1, expand=True)\n",
    "\n",
    "# Group by genus and calculate the mean logbodysize and trophicposition\n",
    "genus_means = new_df.groupby('genus').agg({'logbodysize': 'mean', 'trophic_position': 'mean'})\n",
    "\n",
    "# Sort the dataframe by the mean logbodysize in descending order\n",
    "genus_means = genus_means.sort_values('logbodysize', ascending=False)\n",
    "\n",
    "# Print the head of the new dataframe\n",
    "print(genus_means.head(200))"
   ]
  },
  {
   "cell_type": "markdown",
   "metadata": {},
   "source": [
    "Which genera is the smallest and largest?"
   ]
  },
  {
   "cell_type": "code",
   "execution_count": 64,
   "metadata": {},
   "outputs": [
    {
     "name": "stdout",
     "output_type": "stream",
     "text": [
      "Smallest genus: Amazonsprattus\n",
      "Largest genus: Tenualosa\n"
     ]
    }
   ],
   "source": [
    "# Find the genus with the smallest mean logbodysize\n",
    "smallest_genus = genus_means['logbodysize'].idxmin()\n",
    "print(\"Smallest genus:\", smallest_genus)\n",
    "\n",
    "# Find the genus with the largest mean logbodysize\n",
    "largest_genus = genus_means['logbodysize'].idxmax()\n",
    "print(\"Largest genus:\", largest_genus)"
   ]
  },
  {
   "cell_type": "markdown",
   "metadata": {},
   "source": [
    "What is the trophic position of the smallest and largest?  "
   ]
  },
  {
   "cell_type": "code",
   "execution_count": 65,
   "metadata": {},
   "outputs": [
    {
     "name": "stdout",
     "output_type": "stream",
     "text": [
      "Smallest genus: Amazonsprattus\n",
      "Smallest genus trophic position: 0.531478917\n",
      "Largest genus: Tenualosa\n",
      "Largest genus trophic position: 0.462397998\n"
     ]
    }
   ],
   "source": [
    "# Find the genus with the smallest mean logbodysize and its corresponding trophic position\n",
    "smallest_genus = genus_means['logbodysize'].idxmin()\n",
    "smallest_trophic_position = genus_means.loc[smallest_genus]['trophic_position']\n",
    "print(\"Smallest genus:\", smallest_genus)\n",
    "print(\"Smallest genus trophic position:\", smallest_trophic_position)\n",
    "\n",
    "# Find the genus with the largest mean logbodysize and its corresponding trophic position\n",
    "largest_genus = genus_means['logbodysize'].idxmax()\n",
    "largest_trophic_position = genus_means.loc[largest_genus]['trophic_position']\n",
    "print(\"Largest genus:\", largest_genus)\n",
    "print(\"Largest genus trophic position:\", largest_trophic_position)"
   ]
  },
  {
   "cell_type": "markdown",
   "metadata": {},
   "source": [
    "## Task 3 - Read in muliple files to a dictionary and make a DataFrame - **OPTIONAL/BONUS**  \n",
    "\n",
    "### This is not something you are expected to do in this course, but just here to give you an idea of the things that you COULD do. Answers will be posted after due date.  \n",
    "\n",
    "\n",
    "Using **logfiles**: we are going to do read in each file, get some data, append it to a dictionary to later make into a dataframe.     \n",
    "\n",
    "**note:** *make sure to unzip logfiles*"
   ]
  },
  {
   "cell_type": "code",
   "execution_count": 66,
   "metadata": {},
   "outputs": [
    {
     "name": "stdout",
     "output_type": "stream",
     "text": [
      "/Users/jeshurunbiney/BIOL792/week12_python7_pandas\r\n"
     ]
    }
   ],
   "source": [
    "PATH = '/Users/jeshurunbiney/BIOL792/week12_python7_pandas'\n",
    "\n",
    "!cd $PATH\n",
    "!echo \"$PATH\"\n",
    "\n",
    "import pandas as pd"
   ]
  },
  {
   "cell_type": "code",
   "execution_count": 67,
   "metadata": {},
   "outputs": [
    {
     "name": "stdout",
     "output_type": "stream",
     "text": [
      "[Errno 2] No such file or directory: 'C:/Users/Administrator/Desktop/BIOL_792/Data_Science_For_Biology_II/Part.3.PythonProgramming/Pandas'\n",
      "/Users/jeshurunbiney/BIOL792/week12_python7_pandas\n",
      "Bloom_etal_2018_Reduced_Dataset.csv  pythonModules.pptx\r\n",
      "assignment_6_python.ipynb            state_plot04-01.png\r\n",
      "\u001b[34mlogfiles\u001b[m\u001b[m/                            states_covid.csv\r\n",
      "logfiles.tgz                         week_12_assignment_6_python.ipynb\r\n",
      "primer_python6_pandas.ipynb\r\n"
     ]
    }
   ],
   "source": [
    "%cd C:/Users/Administrator/Desktop/BIOL_792/Data_Science_For_Biology_II/Part.3.PythonProgramming/Pandas\n",
    "%ls "
   ]
  },
  {
   "cell_type": "markdown",
   "metadata": {},
   "source": [
    "I had to specify all the path for it to read, I couldn't read the file"
   ]
  },
  {
   "cell_type": "code",
   "execution_count": 68,
   "metadata": {},
   "outputs": [
    {
     "name": "stdout",
     "output_type": "stream",
     "text": [
      "x logfiles/\n",
      "x logfiles/1901302235_H6_S_14.txt.txt\n",
      "x logfiles/1901302121_H8_S_14.txt.txt\n",
      "x logfiles/1901302217_H18_D_14.txt.txt\n",
      "x logfiles/1901302110_H13_S_14.txt.txt\n",
      "x logfiles/1901302146_H14_D_14.txt.txt\n",
      "x logfiles/1901302240_H8_D_14.txt.txt\n",
      "x logfiles/1901302109_H7_S_14.txt.txt\n",
      "x logfiles/1901302150_H14_S_14.txt.txt\n",
      "x logfiles/1901302141_H19_S_14.txt.txt\n",
      "x logfiles/1901302241_H2_D_14.txt.txt\n",
      "x logfiles/1901302194_H10_S_14.txt.txt\n",
      "x logfiles/1901302227_H11_S_14.txt.txt\n",
      "x logfiles/1901302136_H15_D_14.txt.txt\n",
      "x logfiles/1901302223_H16_S_14.txt.txt\n",
      "x logfiles/1901302243_H5_S_14.txt.txt\n",
      "x logfiles/1901302122_H3_D_14.txt.txt\n",
      "x logfiles/1901302202_H16_S_14.txt.txt\n",
      "x logfiles/1901302236_H17_D_14.txt.txt\n",
      "x logfiles/1901302158_H9_S_14.txt.txt\n",
      "x logfiles/1901302225_H12_D_14.txt.txt\n",
      "x logfiles/1901302120_H5_D_14.txt.txt\n",
      "x logfiles/1901302118_H1_D_14.txt.txt\n",
      "x logfiles/1901302203_H7_S_14.txt.txt\n",
      "x logfiles/1901302119_H4_S_14.txt.txt\n",
      "x logfiles/1901302212_H9_D_14.txt.txt\n",
      "x logfiles/1901302108_H7_D_14.txt.txt\n",
      "x logfiles/1901302224_H3_S_14.txt.txt\n",
      "x logfiles/1901302237_H10_D_14.txt.txt\n",
      "x logfiles/1901302117_H15_S_14.txt.txt\n",
      "x logfiles/1901302137_H18_S_14.txt.txt\n",
      "x logfiles/1901302214_H19_D_14.txt.txt\n",
      "x logfiles/1901302134_H13_D_14.txt.txt\n",
      "x logfiles/1901302157_H12_S_14.txt.txt\n",
      "x logfiles/1901302138_H11_D_14.txt.txt\n",
      "x logfiles/1901302228_H4_D_14.txt.txt\n",
      "x logfiles/1901302115_H1_S_14.txt.txt\n"
     ]
    }
   ],
   "source": [
    "!tar -xzvf \"/Users/jeshurunbiney/BIOL792/week12_python7_pandas/logfiles.tgz\" #unzip logfiles"
   ]
  },
  {
   "cell_type": "code",
   "execution_count": 69,
   "metadata": {},
   "outputs": [],
   "source": [
    "import os\n",
    "log_dir = os.path.join(PATH,'logfiles')\n",
    "assert os.path.exists(log_dir), 'log_dir does not exist'"
   ]
  },
  {
   "cell_type": "markdown",
   "metadata": {},
   "source": [
    "First step is to find the necessary files. The number of files in the log files is 36, make sure you have that many as well  "
   ]
  },
  {
   "cell_type": "code",
   "execution_count": 70,
   "metadata": {},
   "outputs": [
    {
     "name": "stdout",
     "output_type": "stream",
     "text": [
      "logfiles\n",
      "pythonModules.pptx\n",
      ".DS_Store\n",
      "primer_python6_pandas.ipynb\n",
      "Bloom_etal_2018_Reduced_Dataset.csv\n",
      ".ipynb_checkpoints\n",
      "week_12_assignment_6_python.ipynb\n",
      "logfiles.tgz\n",
      "state_plot04-01.png\n",
      "assignment_6_python.ipynb\n",
      "states_covid.csv\n"
     ]
    }
   ],
   "source": [
    "import os\n",
    "\n",
    "files = os.listdir(\".\")\n",
    "for file in files:\n",
    "    print(file)"
   ]
  },
  {
   "cell_type": "code",
   "execution_count": 71,
   "metadata": {},
   "outputs": [],
   "source": [
    "import os\n",
    "\n",
    "path = \"/Users/jeshurunbiney/BIOL792/week12_python7_pandas\"\n",
    "os.chdir(path)"
   ]
  },
  {
   "cell_type": "code",
   "execution_count": 72,
   "metadata": {},
   "outputs": [
    {
     "name": "stdout",
     "output_type": "stream",
     "text": [
      "The number of log files (0) is not equal to 36.\n"
     ]
    }
   ],
   "source": [
    "import os\n",
    "import glob\n",
    "\n",
    "# Set the directory path to the folder containing the log files\n",
    "directory = r'/Users/jeshurunbiney/BIOL792/week12_python7_pandas'\n",
    "\n",
    "# Use glob to get all the log file paths in the directory\n",
    "log_files = glob.glob(os.path.join(directory, '*.txt'))\n",
    "\n",
    "# Loop over the log files and print out their names\n",
    "for log_file in log_files:\n",
    "    print(os.path.basename(log_file))\n",
    "\n",
    "# Check that the number of log files is equal to 36\n",
    "if len(log_files) != 36:\n",
    "    print(f\"The number of log files ({len(log_files)}) is not equal to 36.\")\n",
    "    # Alternatively, you could raise an AssertionError to terminate the program:\n",
    "    # raise AssertionError(f\"The number of log files ({len(log_files)}) is not equal to 36.\")\n",
    "else:\n",
    "    print(\"All log files accounted for.\")"
   ]
  },
  {
   "cell_type": "markdown",
   "metadata": {},
   "source": [
    "### Getting a little tricky here  \n",
    "\n",
    "Read in each of the logfiles, for each file extract:  \n",
    "- minimum temperature  \n",
    "- maximum temperature  \n",
    "- date of minimum temp   \n",
    "- date of maximum temp   \n",
    "- mean temp for each file.   \n",
    "\n",
    "This data should all be appended for a dictionary within a for loop:    \n",
    "Key should be the file name without the path or .txt extension  \n",
    "Values should be (minTemp,maxTemp,minDate,maxDate,meanTemp)\n",
    "\n",
    "I recommend making this work for one file first, then putting the rest in a for loop to do the rest.  \n",
    "\n",
    "Below is an example of how to read in one file\n",
    "\n",
    "*hint:* do not read date in as date object"
   ]
  },
  {
   "cell_type": "code",
   "execution_count": 73,
   "metadata": {},
   "outputs": [],
   "source": [
    "import os\n",
    "import glob\n",
    "import pandas as pd\n",
    "\n",
    "# Set the directory path to the folder containing the log files\n",
    "directory = r'/Users/jeshurunbiney/BIOL792/week12_python7_pandas'\n",
    "\n",
    "# Use glob to get all the log file paths in the directory\n",
    "log_files = glob.glob(os.path.join(directory, '*.txt'))\n",
    "\n",
    "# Initialize an empty dictionary to store the temperature data for each file\n",
    "temp_data = {}\n",
    "\n",
    "# Loop over the log files\n",
    "for log_file in log_files:\n",
    "    # Extract the file name without the path or extension\n",
    "    file_name = os.path.splitext(os.path.basename(log_file))[0]\n",
    "      \n",
    "    # Read in the log file as a DataFrame\n",
    "    df = pd.read_csv(log_file, delim_whitespace=True, header=None, names=['Date', 'Time', 'Readings (°F)'])\n",
    "    \n",
    "    "
   ]
  },
  {
   "cell_type": "code",
   "execution_count": 100,
   "metadata": {},
   "outputs": [
    {
     "name": "stdout",
     "output_type": "stream",
     "text": [
      "/Users/jeshurunbiney/BIOL792/week12_python7_pandas/logfiles/1901302235_H6_S_14.txt.txt\n",
      "/Users/jeshurunbiney/BIOL792/week12_python7_pandas/logfiles/1901302121_H8_S_14.txt.txt\n",
      "/Users/jeshurunbiney/BIOL792/week12_python7_pandas/logfiles/1901302217_H18_D_14.txt.txt\n",
      "/Users/jeshurunbiney/BIOL792/week12_python7_pandas/logfiles/1901302110_H13_S_14.txt.txt\n",
      "/Users/jeshurunbiney/BIOL792/week12_python7_pandas/logfiles/1901302146_H14_D_14.txt.txt\n",
      "/Users/jeshurunbiney/BIOL792/week12_python7_pandas/logfiles/1901302240_H8_D_14.txt.txt\n",
      "/Users/jeshurunbiney/BIOL792/week12_python7_pandas/logfiles/1901302109_H7_S_14.txt.txt\n",
      "/Users/jeshurunbiney/BIOL792/week12_python7_pandas/logfiles/1901302150_H14_S_14.txt.txt\n",
      "/Users/jeshurunbiney/BIOL792/week12_python7_pandas/logfiles/1901302141_H19_S_14.txt.txt\n",
      "/Users/jeshurunbiney/BIOL792/week12_python7_pandas/logfiles/1901302241_H2_D_14.txt.txt\n",
      "/Users/jeshurunbiney/BIOL792/week12_python7_pandas/logfiles/1901302194_H10_S_14.txt.txt\n",
      "/Users/jeshurunbiney/BIOL792/week12_python7_pandas/logfiles/1901302227_H11_S_14.txt.txt\n",
      "/Users/jeshurunbiney/BIOL792/week12_python7_pandas/logfiles/1901302136_H15_D_14.txt.txt\n",
      "/Users/jeshurunbiney/BIOL792/week12_python7_pandas/logfiles/1901302223_H16_S_14.txt.txt\n",
      "/Users/jeshurunbiney/BIOL792/week12_python7_pandas/logfiles/1901302243_H5_S_14.txt.txt\n",
      "/Users/jeshurunbiney/BIOL792/week12_python7_pandas/logfiles/1901302122_H3_D_14.txt.txt\n",
      "/Users/jeshurunbiney/BIOL792/week12_python7_pandas/logfiles/1901302202_H16_S_14.txt.txt\n",
      "/Users/jeshurunbiney/BIOL792/week12_python7_pandas/logfiles/1901302236_H17_D_14.txt.txt\n",
      "/Users/jeshurunbiney/BIOL792/week12_python7_pandas/logfiles/1901302158_H9_S_14.txt.txt\n",
      "/Users/jeshurunbiney/BIOL792/week12_python7_pandas/logfiles/1901302225_H12_D_14.txt.txt\n",
      "/Users/jeshurunbiney/BIOL792/week12_python7_pandas/logfiles/1901302120_H5_D_14.txt.txt\n",
      "/Users/jeshurunbiney/BIOL792/week12_python7_pandas/logfiles/1901302118_H1_D_14.txt.txt\n",
      "/Users/jeshurunbiney/BIOL792/week12_python7_pandas/logfiles/1901302203_H7_S_14.txt.txt\n",
      "/Users/jeshurunbiney/BIOL792/week12_python7_pandas/logfiles/1901302119_H4_S_14.txt.txt\n",
      "/Users/jeshurunbiney/BIOL792/week12_python7_pandas/logfiles/1901302212_H9_D_14.txt.txt\n",
      "/Users/jeshurunbiney/BIOL792/week12_python7_pandas/logfiles/1901302108_H7_D_14.txt.txt\n",
      "/Users/jeshurunbiney/BIOL792/week12_python7_pandas/logfiles/1901302224_H3_S_14.txt.txt\n",
      "/Users/jeshurunbiney/BIOL792/week12_python7_pandas/logfiles/1901302237_H10_D_14.txt.txt\n",
      "/Users/jeshurunbiney/BIOL792/week12_python7_pandas/logfiles/1901302117_H15_S_14.txt.txt\n",
      "/Users/jeshurunbiney/BIOL792/week12_python7_pandas/logfiles/1901302137_H18_S_14.txt.txt\n",
      "/Users/jeshurunbiney/BIOL792/week12_python7_pandas/logfiles/1901302214_H19_D_14.txt.txt\n",
      "/Users/jeshurunbiney/BIOL792/week12_python7_pandas/logfiles/1901302134_H13_D_14.txt.txt\n",
      "/Users/jeshurunbiney/BIOL792/week12_python7_pandas/logfiles/1901302157_H12_S_14.txt.txt\n",
      "/Users/jeshurunbiney/BIOL792/week12_python7_pandas/logfiles/1901302138_H11_D_14.txt.txt\n",
      "/Users/jeshurunbiney/BIOL792/week12_python7_pandas/logfiles/1901302228_H4_D_14.txt.txt\n",
      "/Users/jeshurunbiney/BIOL792/week12_python7_pandas/logfiles/1901302115_H1_S_14.txt.txt\n"
     ]
    }
   ],
   "source": [
    "### trial\n",
    "\n",
    "directory = r'/Users/jeshurunbiney/BIOL792/week12_python7_pandas/logfiles'\n",
    "\n",
    "# Use glob to get all the log file paths in the directory\n",
    "log_files = glob.glob(os.path.join(directory, '*.txt'))\n",
    "\n",
    "for log_file in log_files:\n",
    "    print(log_file)\n"
   ]
  },
  {
   "cell_type": "code",
   "execution_count": 89,
   "metadata": {},
   "outputs": [
    {
     "name": "stdout",
     "output_type": "stream",
     "text": [
      "1901302235_H6_S_14.txt.txt\n",
      "1901302121_H8_S_14.txt.txt\n",
      "1901302217_H18_D_14.txt.txt\n",
      "1901302110_H13_S_14.txt.txt\n",
      "1901302146_H14_D_14.txt.txt\n",
      "1901302240_H8_D_14.txt.txt\n",
      "1901302109_H7_S_14.txt.txt\n",
      "1901302150_H14_S_14.txt.txt\n",
      "1901302141_H19_S_14.txt.txt\n",
      "1901302241_H2_D_14.txt.txt\n",
      "1901302194_H10_S_14.txt.txt\n",
      "1901302227_H11_S_14.txt.txt\n",
      "1901302136_H15_D_14.txt.txt\n",
      "1901302223_H16_S_14.txt.txt\n",
      "1901302243_H5_S_14.txt.txt\n",
      "1901302122_H3_D_14.txt.txt\n",
      "1901302202_H16_S_14.txt.txt\n",
      "1901302236_H17_D_14.txt.txt\n",
      "1901302158_H9_S_14.txt.txt\n",
      "1901302225_H12_D_14.txt.txt\n",
      "1901302120_H5_D_14.txt.txt\n",
      "1901302118_H1_D_14.txt.txt\n",
      "1901302203_H7_S_14.txt.txt\n",
      "1901302119_H4_S_14.txt.txt\n",
      "1901302212_H9_D_14.txt.txt\n",
      "1901302108_H7_D_14.txt.txt\n",
      "1901302224_H3_S_14.txt.txt\n",
      "1901302237_H10_D_14.txt.txt\n",
      "1901302117_H15_S_14.txt.txt\n",
      "1901302137_H18_S_14.txt.txt\n",
      "1901302214_H19_D_14.txt.txt\n",
      "1901302134_H13_D_14.txt.txt\n",
      "1901302157_H12_S_14.txt.txt\n",
      "1901302138_H11_D_14.txt.txt\n",
      "1901302228_H4_D_14.txt.txt\n",
      "1901302115_H1_S_14.txt.txt\n"
     ]
    }
   ],
   "source": [
    "### set up data frame as you read in each file\n",
    "\n",
    "directory = r'/Users/jeshurunbiney/BIOL792/week12_python7_pandas/logfiles'\n",
    "\n",
    "# Use glob to get all the log file paths in the directory\n",
    "log_files = glob.glob(os.path.join(directory, '*.txt'))\n",
    "\n",
    "for log_file in log_files:\n",
    "    print(os.path.basename(log_file))\n",
    "\n"
   ]
  },
  {
   "cell_type": "markdown",
   "metadata": {},
   "source": [
    "Now that we have all the log files confirmed on here. We shall go ahead to creat an empty dictionary, write a loop to go through and extract the needed columns"
   ]
  },
  {
   "cell_type": "code",
   "execution_count": 119,
   "metadata": {},
   "outputs": [],
   "source": [
    "# Create an empty dictionary to store results\n",
    "d = {}\n",
    "\n",
    "# Specify the directory containing the logfiles\n",
    "directory = '/Users/jeshurunbiney/BIOL792/week12_python7_pandas/logfiles'\n",
    "\n",
    "# Use glob to get all the log file paths in the directory\n",
    "log_files = glob.glob(os.path.join(directory, '*.txt'))\n",
    "\n",
    "# Iterate through each log file\n",
    "for log_file in log_files:\n",
    "    # Read the log file into a DataFrame\n",
    "    infile = pd.read_csv(log_file, sep='\\t', engine='python', encoding='latin-1')\n",
    "    infile.columns = ['Index', 'Date', 'Time', 'Temp', 'Type']\n",
    "    infile = infile[['Date', 'Time', 'Temp']]\n",
    "\n",
    "    # Convert 'Date' column to datetime format\n",
    "    infile['Date'] = pd.to_datetime(infile['Date'])\n",
    "\n",
    "    # Calculate summary statistics and store in the dictionary\n",
    "    min_date = infile.loc[infile['Temp'].idxmin(), 'Date']\n",
    "    max_date = infile.loc[infile['Temp'].idxmax(), 'Date']\n",
    "\n",
    "    d[os.path.basename(log_file)] = [\n",
    "        min(infile['Temp']),\n",
    "        max(infile['Temp']),\n",
    "        min_date.strftime('%m/%d/%Y'),\n",
    "        max_date.strftime('%m/%d/%Y')\n",
    "    ]\n",
    "\n",
    "# Convert the dictionary to a DataFrame\n",
    "df = pd.DataFrame.from_dict(d, orient='index', columns=['minTemp', 'maxTemp', 'minDate', 'maxDate'])\n",
    "\n",
    "# Display the DataFrame\n",
    "#print(df.head())\n"
   ]
  },
  {
   "cell_type": "code",
   "execution_count": 120,
   "metadata": {},
   "outputs": [
    {
     "data": {
      "text/html": [
       "<div>\n",
       "<style scoped>\n",
       "    .dataframe tbody tr th:only-of-type {\n",
       "        vertical-align: middle;\n",
       "    }\n",
       "\n",
       "    .dataframe tbody tr th {\n",
       "        vertical-align: top;\n",
       "    }\n",
       "\n",
       "    .dataframe thead th {\n",
       "        text-align: right;\n",
       "    }\n",
       "</style>\n",
       "<table border=\"1\" class=\"dataframe\">\n",
       "  <thead>\n",
       "    <tr style=\"text-align: right;\">\n",
       "      <th></th>\n",
       "      <th>minTemp</th>\n",
       "      <th>maxTemp</th>\n",
       "      <th>minDate</th>\n",
       "      <th>maxDate</th>\n",
       "    </tr>\n",
       "  </thead>\n",
       "  <tbody>\n",
       "    <tr>\n",
       "      <th>1901302235_H6_S_14.txt.txt</th>\n",
       "      <td>21.3</td>\n",
       "      <td>65.8</td>\n",
       "      <td>12/06/2013</td>\n",
       "      <td>07/13/2014</td>\n",
       "    </tr>\n",
       "    <tr>\n",
       "      <th>1901302121_H8_S_14.txt.txt</th>\n",
       "      <td>17.9</td>\n",
       "      <td>73.4</td>\n",
       "      <td>10/28/2013</td>\n",
       "      <td>07/13/2014</td>\n",
       "    </tr>\n",
       "    <tr>\n",
       "      <th>1901302217_H18_D_14.txt.txt</th>\n",
       "      <td>21.0</td>\n",
       "      <td>82.4</td>\n",
       "      <td>10/28/2013</td>\n",
       "      <td>07/26/2014</td>\n",
       "    </tr>\n",
       "    <tr>\n",
       "      <th>1901302110_H13_S_14.txt.txt</th>\n",
       "      <td>22.8</td>\n",
       "      <td>60.9</td>\n",
       "      <td>10/04/2013</td>\n",
       "      <td>07/13/2014</td>\n",
       "    </tr>\n",
       "    <tr>\n",
       "      <th>1901302146_H14_D_14.txt.txt</th>\n",
       "      <td>24.6</td>\n",
       "      <td>66.1</td>\n",
       "      <td>01/21/2014</td>\n",
       "      <td>07/13/2014</td>\n",
       "    </tr>\n",
       "  </tbody>\n",
       "</table>\n",
       "</div>"
      ],
      "text/plain": [
       "                             minTemp  maxTemp     minDate     maxDate\n",
       "1901302235_H6_S_14.txt.txt      21.3     65.8  12/06/2013  07/13/2014\n",
       "1901302121_H8_S_14.txt.txt      17.9     73.4  10/28/2013  07/13/2014\n",
       "1901302217_H18_D_14.txt.txt     21.0     82.4  10/28/2013  07/26/2014\n",
       "1901302110_H13_S_14.txt.txt     22.8     60.9  10/04/2013  07/13/2014\n",
       "1901302146_H14_D_14.txt.txt     24.6     66.1  01/21/2014  07/13/2014"
      ]
     },
     "execution_count": 120,
     "metadata": {},
     "output_type": "execute_result"
    }
   ],
   "source": [
    "df.head(5)"
   ]
  },
  {
   "cell_type": "code",
   "execution_count": 115,
   "metadata": {},
   "outputs": [],
   "source": [
    "#another way to do this\n",
    "\n",
    "d={}\n",
    "for n in log_files:\n",
    "    infile = pd.read_csv(n, sep='\\t', engine='python', encoding='latin-1')\n",
    "    infile.columns = ['Index', 'Date', 'Time', 'Temp', 'Type']\n",
    "    infile = infile[['Date', 'Time', 'Temp']]\n",
    "    #print(infile.head())\n",
    "    for n1 in infile:\n",
    "        d[n]=[min(infile['Temp']),max(infile['Temp']),str(infile[infile['Temp'] == min(infile['Temp'])]['Date'].values[0]),str(infile[infile['Temp'] == max(infile['Temp'])]['Date'].values[0])]\n"
   ]
  },
  {
   "cell_type": "code",
   "execution_count": 94,
   "metadata": {},
   "outputs": [],
   "source": [
    "df = pd.DataFrame.from_dict(d, orient='index', columns= ['minTemp','maxTemp','minDate','maxDate'])"
   ]
  },
  {
   "cell_type": "code",
   "execution_count": null,
   "metadata": {},
   "outputs": [],
   "source": [
    "df"
   ]
  },
  {
   "cell_type": "markdown",
   "metadata": {},
   "source": [
    "Then do the real code below here. You don't need to turnin your thoughts. Just put it in there as a help reminder. Most people all still do this, no matter how advanced they are"
   ]
  },
  {
   "cell_type": "markdown",
   "metadata": {},
   "source": [
    "**Once you have created a DataFrame with all the logfiles, print the head and save it to an outfile using pd.to_csv() as logfiles_df.csv** "
   ]
  },
  {
   "cell_type": "markdown",
   "metadata": {},
   "source": [
    "#### Here is an example of the final product"
   ]
  },
  {
   "cell_type": "code",
   "execution_count": 122,
   "metadata": {},
   "outputs": [
    {
     "data": {
      "text/html": [
       "<div>\n",
       "<style scoped>\n",
       "    .dataframe tbody tr th:only-of-type {\n",
       "        vertical-align: middle;\n",
       "    }\n",
       "\n",
       "    .dataframe tbody tr th {\n",
       "        vertical-align: top;\n",
       "    }\n",
       "\n",
       "    .dataframe thead th {\n",
       "        text-align: right;\n",
       "    }\n",
       "</style>\n",
       "<table border=\"1\" class=\"dataframe\">\n",
       "  <thead>\n",
       "    <tr style=\"text-align: right;\">\n",
       "      <th></th>\n",
       "      <th>minTemp</th>\n",
       "      <th>maxTemp</th>\n",
       "      <th>minDate</th>\n",
       "      <th>maxDate</th>\n",
       "      <th>meanTemp</th>\n",
       "    </tr>\n",
       "  </thead>\n",
       "  <tbody>\n",
       "  </tbody>\n",
       "</table>\n",
       "</div>"
      ],
      "text/plain": [
       "Empty DataFrame\n",
       "Columns: [minTemp, maxTemp, minDate, maxDate, meanTemp]\n",
       "Index: []"
      ]
     },
     "execution_count": 122,
     "metadata": {},
     "output_type": "execute_result"
    }
   ],
   "source": [
    "logfiles_df.head()"
   ]
  }
 ],
 "metadata": {
  "kernelspec": {
   "display_name": "Python 3 (ipykernel)",
   "language": "python",
   "name": "python3"
  },
  "language_info": {
   "codemirror_mode": {
    "name": "ipython",
    "version": 3
   },
   "file_extension": ".py",
   "mimetype": "text/x-python",
   "name": "python",
   "nbconvert_exporter": "python",
   "pygments_lexer": "ipython3",
   "version": "3.11.4"
  }
 },
 "nbformat": 4,
 "nbformat_minor": 4
}
